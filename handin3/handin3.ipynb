{
 "cells": [
  {
   "cell_type": "markdown",
   "metadata": {},
   "source": [
    "Handin 3 EITN45"
   ]
  },
  {
   "cell_type": "markdown",
   "metadata": {},
   "source": [
    "TODO: \n",
    "\u000f- Use the above induction formula to derive the generator matrix G(1, 3).\n",
    "\n",
    "\u000f- List all codewords and determine dmin. How many errors can be corrected? How many errors can be detected?\n",
    "\n",
    "\u000f- Verify that H = G, i.e. that GGT = 0. That means the generator matrix is its own parity check matrix, and such code is said to be self dual.1\n",
    "\n",
    "\u000f- Write the syndrome table for all single errors that can occur on the channel.\n",
    "\n",
    "\u000f- Choose a codeword and introduce a correctable error in it. Decode using the syndrome table."
   ]
  },
  {
   "cell_type": "code",
   "execution_count": 3,
   "metadata": {},
   "outputs": [],
   "source": [
    "import sys\n",
    "import os\n",
    "sys.path.append(os.path.abspath(\"../handin1\"))\n",
    "import HandIn1 as h\n",
    "import numpy as np"
   ]
  },
  {
   "cell_type": "code",
   "execution_count": 2,
   "metadata": {},
   "outputs": [],
   "source": [
    "IT = h.InfoTheory()\n"
   ]
  },
  {
   "cell_type": "code",
   "execution_count": 3,
   "metadata": {},
   "outputs": [],
   "source": [
    "def reed_muller(r, m):\n",
    "    ''' The function calculates the reed muller \n",
    "    '''\n",
    "    G = np.array([1])\n",
    "    print(G)"
   ]
  },
  {
   "cell_type": "code",
   "execution_count": 4,
   "metadata": {},
   "outputs": [
    {
     "output_type": "error",
     "ename": "TypeError",
     "evalue": "reed_muller() missing 2 required positional arguments: 'r' and 'm'",
     "traceback": [
      "\u001b[0;31m---------------------------------------------------------------------------\u001b[0m",
      "\u001b[0;31mTypeError\u001b[0m                                 Traceback (most recent call last)",
      "\u001b[0;32m<ipython-input-4-2307039a1930>\u001b[0m in \u001b[0;36m<module>\u001b[0;34m\u001b[0m\n\u001b[0;32m----> 1\u001b[0;31m \u001b[0mreed_muller\u001b[0m\u001b[0;34m(\u001b[0m\u001b[0;34m)\u001b[0m\u001b[0;34m\u001b[0m\u001b[0;34m\u001b[0m\u001b[0m\n\u001b[0m",
      "\u001b[0;31mTypeError\u001b[0m: reed_muller() missing 2 required positional arguments: 'r' and 'm'"
     ]
    }
   ],
   "source": [
    "reed_muller()"
   ]
  },
  {
   "cell_type": "code",
   "execution_count": 5,
   "metadata": {},
   "outputs": [
    {
     "output_type": "error",
     "ename": "ValueError",
     "evalue": "only 2 non-keyword arguments accepted",
     "traceback": [
      "\u001b[0;31m---------------------------------------------------------------------------\u001b[0m",
      "\u001b[0;31mValueError\u001b[0m                                Traceback (most recent call last)",
      "\u001b[0;32m<ipython-input-5-e4a48cb5fd48>\u001b[0m in \u001b[0;36m<module>\u001b[0;34m\u001b[0m\n\u001b[1;32m      2\u001b[0m                 \u001b[0;34m[\u001b[0m\u001b[0;36m0\u001b[0m\u001b[0;34m,\u001b[0m\u001b[0;36m1\u001b[0m\u001b[0;34m,\u001b[0m\u001b[0;36m0\u001b[0m\u001b[0;34m,\u001b[0m\u001b[0;36m1\u001b[0m\u001b[0;34m,\u001b[0m\u001b[0;36m0\u001b[0m\u001b[0;34m,\u001b[0m\u001b[0;36m1\u001b[0m\u001b[0;34m,\u001b[0m\u001b[0;36m0\u001b[0m\u001b[0;34m,\u001b[0m\u001b[0;36m1\u001b[0m\u001b[0;34m]\u001b[0m\u001b[0;34m,\u001b[0m\u001b[0;34m\u001b[0m\u001b[0;34m\u001b[0m\u001b[0m\n\u001b[1;32m      3\u001b[0m                 \u001b[0;34m[\u001b[0m\u001b[0;36m0\u001b[0m\u001b[0;34m,\u001b[0m\u001b[0;36m0\u001b[0m\u001b[0;34m,\u001b[0m\u001b[0;36m1\u001b[0m\u001b[0;34m,\u001b[0m\u001b[0;36m1\u001b[0m\u001b[0;34m,\u001b[0m\u001b[0;36m0\u001b[0m\u001b[0;34m,\u001b[0m\u001b[0;36m0\u001b[0m\u001b[0;34m,\u001b[0m\u001b[0;36m1\u001b[0m\u001b[0;34m,\u001b[0m\u001b[0;36m1\u001b[0m\u001b[0;34m]\u001b[0m\u001b[0;34m,\u001b[0m\u001b[0;34m\u001b[0m\u001b[0;34m\u001b[0m\u001b[0m\n\u001b[0;32m----> 4\u001b[0;31m                 [0,0,0,0,1,1,1,1])\n\u001b[0m\u001b[1;32m      5\u001b[0m \u001b[0;34m\u001b[0m\u001b[0m\n",
      "\u001b[0;31mValueError\u001b[0m: only 2 non-keyword arguments accepted"
     ]
    }
   ],
   "source": [
    "G = np.array(   [1,0,1,0,1,0,1,0],\n",
    "                [0,1,0,1,0,1,0,1],\n",
    "                [0,0,1,1,0,0,1,1],\n",
    "                [0,0,0,0,1,1,1,1])\n",
    "                "
   ]
  },
  {
   "cell_type": "code",
   "execution_count": 7,
   "metadata": {},
   "outputs": [],
   "source": [
    "G = np.array(  [[1,0,1,0,1,0,1,0],\n",
    "                [0,1,0,1,0,1,0,1],\n",
    "                [0,0,1,1,0,0,1,1],\n",
    "                [0,0,0,0,1,1,1,1]])"
   ]
  },
  {
   "cell_type": "code",
   "execution_count": 11,
   "metadata": {},
   "outputs": [
    {
     "output_type": "stream",
     "name": "stdout",
     "text": "[[4 0 2 2]\n [0 4 2 2]\n [2 2 4 2]\n [2 2 2 4]]\n"
    }
   ],
   "source": [
    "test = G.dot(G.T)\n",
    "print(test)"
   ]
  },
  {
   "cell_type": "code",
   "execution_count": 12,
   "metadata": {},
   "outputs": [
    {
     "output_type": "execute_result",
     "data": {
      "text/plain": "array([[1, 0, 0, 0],\n       [0, 1, 0, 0],\n       [1, 0, 1, 0],\n       [0, 1, 1, 0],\n       [1, 0, 0, 1],\n       [0, 1, 0, 1],\n       [1, 0, 1, 1],\n       [0, 1, 1, 1]])"
     },
     "metadata": {},
     "execution_count": 12
    }
   ],
   "source": [
    "G.T"
   ]
  },
  {
   "cell_type": "code",
   "execution_count": 13,
   "metadata": {},
   "outputs": [
    {
     "output_type": "execute_result",
     "data": {
      "text/plain": "array([[1., 0.],\n       [0., 1.]])"
     },
     "metadata": {},
     "execution_count": 13
    }
   ],
   "source": [
    "np.identity(2)"
   ]
  },
  {
   "cell_type": "code",
   "execution_count": 54,
   "metadata": {},
   "outputs": [],
   "source": [
    "arr = np.array([\n",
    "            (np.identity(2), np.identity(2)),\n",
    "            (np.identity(2), np.identity(2))\n",
    "            ])"
   ]
  },
  {
   "cell_type": "code",
   "execution_count": 59,
   "metadata": {},
   "outputs": [],
   "source": [
    "arr2 = np.array([\n",
    "    (arr, arr),\n",
    "    (np.zeros(pow(2,0)), np.ones(pow(2,0)))\n",
    "    #[np.zeros(2,1), np.ones(2,1)]\n",
    "])"
   ]
  },
  {
   "cell_type": "code",
   "execution_count": 60,
   "metadata": {},
   "outputs": [
    {
     "output_type": "stream",
     "name": "stdout",
     "text": "[[array([[[[1., 0.],\n         [0., 1.]],\n\n        [[1., 0.],\n         [0., 1.]]],\n\n\n       [[[1., 0.],\n         [0., 1.]],\n\n        [[1., 0.],\n         [0., 1.]]]])\n  array([[[[1., 0.],\n         [0., 1.]],\n\n        [[1., 0.],\n         [0., 1.]]],\n\n\n       [[[1., 0.],\n         [0., 1.]],\n\n        [[1., 0.],\n         [0., 1.]]]])]\n [array([0.]) array([1.])]]\n"
    }
   ],
   "source": [
    "print(arr2)"
   ]
  },
  {
   "cell_type": "code",
   "execution_count": 62,
   "metadata": {},
   "outputs": [
    {
     "output_type": "execute_result",
     "data": {
      "text/plain": "array([[1., 0., 0., 0., 0., 0., 0., 0.],\n       [0., 1., 0., 0., 0., 0., 0., 0.],\n       [0., 0., 1., 0., 0., 0., 0., 0.],\n       [0., 0., 0., 1., 0., 0., 0., 0.],\n       [0., 0., 0., 0., 1., 0., 0., 0.],\n       [0., 0., 0., 0., 0., 1., 0., 0.],\n       [0., 0., 0., 0., 0., 0., 1., 0.],\n       [0., 0., 0., 0., 0., 0., 0., 1.]])"
     },
     "metadata": {},
     "execution_count": 62
    }
   ],
   "source": [
    "test = np.identity(pow(2,3))"
   ]
  },
  {
   "cell_type": "code",
   "execution_count": 93,
   "metadata": {},
   "outputs": [],
   "source": [
    "gh=np.array([\n",
    "            [np.identity(2)*1, np.identity(2)*2],\n",
    "            [np.identity(2)*3, np.identity(2)*4]\n",
    "            ])"
   ]
  },
  {
   "cell_type": "code",
   "execution_count": 94,
   "metadata": {},
   "outputs": [
    {
     "output_type": "stream",
     "name": "stdout",
     "text": "[[[[1. 0.]\n   [0. 1.]]\n\n  [[2. 0.]\n   [0. 2.]]]\n\n\n [[[3. 0.]\n   [0. 3.]]\n\n  [[4. 0.]\n   [0. 4.]]]]\n"
    }
   ],
   "source": [
    "print(gh)"
   ]
  },
  {
   "cell_type": "code",
   "execution_count": 95,
   "metadata": {},
   "outputs": [],
   "source": [
    "a = [[1, 2, 3], [4, 5, 6]]"
   ]
  },
  {
   "cell_type": "code",
   "execution_count": 105,
   "metadata": {},
   "outputs": [
    {
     "output_type": "execute_result",
     "data": {
      "text/plain": "array([[[1, 2, 3],\n        [4, 5, 6]],\n\n       [[1, 2, 3],\n        [4, 5, 6]]])"
     },
     "metadata": {},
     "execution_count": 105
    }
   ],
   "source": [
    "np.array([\n",
    "        a, a\n",
    "    ])"
   ]
  },
  {
   "cell_type": "code",
   "execution_count": 40,
   "metadata": {},
   "outputs": [],
   "source": [
    "G = np.matrix([\n",
    "    [1, 0, 1, 0, 1, 0, 1, 0],\n",
    "    [0, 1, 0, 1, 0, 1, 0, 1],\n",
    "    [0, 0, 1, 1, 0, 0, 1, 1],\n",
    "    [0, 0, 0, 0, 1, 1, 1, 1]\n",
    "])"
   ]
  },
  {
   "cell_type": "code",
   "execution_count": 5,
   "metadata": {},
   "outputs": [
    {
     "output_type": "execute_result",
     "data": {
      "text/plain": "matrix([[0, 0, 0, 0],\n        [0, 0, 0, 0],\n        [0, 0, 0, 0],\n        [0, 0, 0, 0]])"
     },
     "metadata": {},
     "execution_count": 5
    }
   ],
   "source": [
    "G*G.T %2"
   ]
  },
  {
   "cell_type": "code",
   "execution_count": 6,
   "metadata": {},
   "outputs": [
    {
     "output_type": "execute_result",
     "data": {
      "text/plain": "matrix([[1, 0, 0, 0],\n        [0, 1, 0, 0],\n        [1, 0, 1, 0],\n        [0, 1, 1, 0],\n        [1, 0, 0, 1],\n        [0, 1, 0, 1],\n        [1, 0, 1, 1],\n        [0, 1, 1, 1]])"
     },
     "metadata": {},
     "execution_count": 6
    }
   ],
   "source": [
    "G.T"
   ]
  },
  {
   "cell_type": "code",
   "execution_count": 8,
   "metadata": {},
   "outputs": [],
   "source": [
    "lin_comb= np.matrix([\n",
    "    [0, 0, 0, 0, 0, 0, 0, 0], \n",
    "    G,\n",
    "    [1, 1, 1, 1, 1, 1, 1, 1,]\n",
    "\n",
    "])"
   ]
  },
  {
   "cell_type": "code",
   "execution_count": 9,
   "metadata": {},
   "outputs": [
    {
     "output_type": "execute_result",
     "data": {
      "text/plain": "matrix([[list([0, 0, 0, 0, 0, 0, 0, 0]),\n         matrix([[1, 0, 1, 0, 1, 0, 1, 0],\n        [0, 1, 0, 1, 0, 1, 0, 1],\n        [0, 0, 1, 1, 0, 0, 1, 1],\n        [0, 0, 0, 0, 1, 1, 1, 1]]),\n         list([1, 1, 1, 1, 1, 1, 1, 1])]], dtype=object)"
     },
     "metadata": {},
     "execution_count": 9
    }
   ],
   "source": [
    "lin_comb"
   ]
  },
  {
   "cell_type": "code",
   "execution_count": 10,
   "metadata": {},
   "outputs": [],
   "source": [
    "lin_comb = np.matrix([\n",
    "    [1, 0, 1, 0, 1, 0, 1, 0],\n",
    "    [0, 1, 0, 1, 0, 1, 0, 1],\n",
    "    [0, 0, 1, 1, 0, 0, 1, 1],\n",
    "    [0, 0, 0, 0, 1, 1, 1, 1],\n",
    "    [0, 0, 0, 0, 0, 0, 0, 0],\n",
    "    [1, 1, 1, 1, 1, 1, 1, 1]\n",
    "\n",
    "])"
   ]
  },
  {
   "cell_type": "code",
   "execution_count": 11,
   "metadata": {},
   "outputs": [
    {
     "output_type": "execute_result",
     "data": {
      "text/plain": "matrix([[1, 0, 1, 0, 1, 0, 1, 0],\n        [0, 1, 0, 1, 0, 1, 0, 1],\n        [0, 0, 1, 1, 0, 0, 1, 1],\n        [0, 0, 0, 0, 1, 1, 1, 1],\n        [0, 0, 0, 0, 0, 0, 0, 0],\n        [1, 1, 1, 1, 1, 1, 1, 1]])"
     },
     "metadata": {},
     "execution_count": 11
    }
   ],
   "source": [
    "lin_comb"
   ]
  },
  {
   "cell_type": "code",
   "execution_count": 33,
   "metadata": {},
   "outputs": [],
   "source": [
    "\n",
    "def create_binary_list():\n",
    "    spacewords = []\n",
    "    for i in range(256):\n",
    "        l = []\n",
    "        binary = \"{0:b}\".format(i)\n",
    "        zeros = 8 - len(binary)\n",
    "        for _ in range(zeros):\n",
    "            l.append(0)\n",
    "        \n",
    "        for char in binary: \n",
    "            l.append(int(char))\n",
    "        \n",
    "        spacewords.append(l)\n",
    "    \n",
    "    return spacewords"
   ]
  },
  {
   "cell_type": "code",
   "execution_count": 36,
   "metadata": {},
   "outputs": [],
   "source": [
    "spacewords = create_binary_list()"
   ]
  },
  {
   "cell_type": "markdown",
   "metadata": {},
   "source": [
    "To find codewords it must fulfill x*H.T = 0,"
   ]
  },
  {
   "cell_type": "code",
   "execution_count": 75,
   "metadata": {
    "tags": [
     "outputPrepend",
     "outputPrepend",
     "outputPrepend"
    ]
   },
   "outputs": [
    {
     "output_type": "stream",
     "name": "stdout",
     "text": "<class 'numpy.matrix'>\n<class 'numpy.matrix'>\n<class 'numpy.matrix'>\n<class 'numpy.matrix'>\n<class 'numpy.matrix'>\n<class 'numpy.matrix'>\n<class 'numpy.matrix'>\n<class 'numpy.matrix'>\n<class 'numpy.matrix'>\n<class 'numpy.matrix'>\n<class 'numpy.matrix'>\n<class 'numpy.matrix'>\n<class 'numpy.matrix'>\n<class 'numpy.matrix'>\n<class 'numpy.matrix'>\n<class 'numpy.matrix'>\n<class 'numpy.matrix'>\n<class 'numpy.matrix'>\n<class 'numpy.matrix'>\n<class 'numpy.matrix'>\n<class 'numpy.matrix'>\n<class 'numpy.matrix'>\n<class 'numpy.matrix'>\n<class 'numpy.matrix'>\n<class 'numpy.matrix'>\n<class 'numpy.matrix'>\n<class 'numpy.matrix'>\n<class 'numpy.matrix'>\n<class 'numpy.matrix'>\n<class 'numpy.matrix'>\n<class 'numpy.matrix'>\n<class 'numpy.matrix'>\n<class 'numpy.matrix'>\n<class 'numpy.matrix'>\n<class 'numpy.matrix'>\n<class 'numpy.matrix'>\n<class 'numpy.matrix'>\n<class 'numpy.matrix'>\n<class 'numpy.matrix'>\n<class 'numpy.matrix'>\n<class 'numpy.matrix'>\n<class 'numpy.matrix'>\n<class 'numpy.matrix'>\n<class 'numpy.matrix'>\n<class 'numpy.matrix'>\n<class 'numpy.matrix'>\n<class 'numpy.matrix'>\n<class 'numpy.matrix'>\n<class 'numpy.matrix'>\n<class 'numpy.matrix'>\n<class 'numpy.matrix'>\n<class 'numpy.matrix'>\n<class 'numpy.matrix'>\n<class 'numpy.matrix'>\n<class 'numpy.matrix'>\n<class 'numpy.matrix'>\n<class 'numpy.matrix'>\n<class 'numpy.matrix'>\n<class 'numpy.matrix'>\n<class 'numpy.matrix'>\n<class 'numpy.matrix'>\n<class 'numpy.matrix'>\n<class 'numpy.matrix'>\n<class 'numpy.matrix'>\n<class 'numpy.matrix'>\n<class 'numpy.matrix'>\n<class 'numpy.matrix'>\n<class 'numpy.matrix'>\n<class 'numpy.matrix'>\n<class 'numpy.matrix'>\n<class 'numpy.matrix'>\n<class 'numpy.matrix'>\n<class 'numpy.matrix'>\n<class 'numpy.matrix'>\n<class 'numpy.matrix'>\n<class 'numpy.matrix'>\n<class 'numpy.matrix'>\n<class 'numpy.matrix'>\n<class 'numpy.matrix'>\n<class 'numpy.matrix'>\n<class 'numpy.matrix'>\n<class 'numpy.matrix'>\n<class 'numpy.matrix'>\n<class 'numpy.matrix'>\n<class 'numpy.matrix'>\n<class 'numpy.matrix'>\n<class 'numpy.matrix'>\n<class 'numpy.matrix'>\n<class 'numpy.matrix'>\n<class 'numpy.matrix'>\n<class 'numpy.matrix'>\n<class 'numpy.matrix'>\n<class 'numpy.matrix'>\n<class 'numpy.matrix'>\n<class 'numpy.matrix'>\n<class 'numpy.matrix'>\n<class 'numpy.matrix'>\n<class 'numpy.matrix'>\n<class 'numpy.matrix'>\n<class 'numpy.matrix'>\n<class 'numpy.matrix'>\n<class 'numpy.matrix'>\n<class 'numpy.matrix'>\n<class 'numpy.matrix'>\n<class 'numpy.matrix'>\n<class 'numpy.matrix'>\n<class 'numpy.matrix'>\n<class 'numpy.matrix'>\n<class 'numpy.matrix'>\n<class 'numpy.matrix'>\n<class 'numpy.matrix'>\n<class 'numpy.matrix'>\n<class 'numpy.matrix'>\n<class 'numpy.matrix'>\n<class 'numpy.matrix'>\n<class 'numpy.matrix'>\n<class 'numpy.matrix'>\n<class 'numpy.matrix'>\n<class 'numpy.matrix'>\n<class 'numpy.matrix'>\n<class 'numpy.matrix'>\n<class 'numpy.matrix'>\n<class 'numpy.matrix'>\n<class 'numpy.matrix'>\n<class 'numpy.matrix'>\n<class 'numpy.matrix'>\n<class 'numpy.matrix'>\n<class 'numpy.matrix'>\n<class 'numpy.matrix'>\n<class 'numpy.matrix'>\n<class 'numpy.matrix'>\n<class 'numpy.matrix'>\n<class 'numpy.matrix'>\n<class 'numpy.matrix'>\n<class 'numpy.matrix'>\n<class 'numpy.matrix'>\n<class 'numpy.matrix'>\n<class 'numpy.matrix'>\n<class 'numpy.matrix'>\n<class 'numpy.matrix'>\n<class 'numpy.matrix'>\n<class 'numpy.matrix'>\n<class 'numpy.matrix'>\n<class 'numpy.matrix'>\n<class 'numpy.matrix'>\n<class 'numpy.matrix'>\n<class 'numpy.matrix'>\n<class 'numpy.matrix'>\n<class 'numpy.matrix'>\n<class 'numpy.matrix'>\n<class 'numpy.matrix'>\n<class 'numpy.matrix'>\n<class 'numpy.matrix'>\n<class 'numpy.matrix'>\n<class 'numpy.matrix'>\n<class 'numpy.matrix'>\n<class 'numpy.matrix'>\n<class 'numpy.matrix'>\n<class 'numpy.matrix'>\n<class 'numpy.matrix'>\n<class 'numpy.matrix'>\n<class 'numpy.matrix'>\n<class 'numpy.matrix'>\n<class 'numpy.matrix'>\n<class 'numpy.matrix'>\n<class 'numpy.matrix'>\n<class 'numpy.matrix'>\n<class 'numpy.matrix'>\n<class 'numpy.matrix'>\n<class 'numpy.matrix'>\n<class 'numpy.matrix'>\n<class 'numpy.matrix'>\n<class 'numpy.matrix'>\n<class 'numpy.matrix'>\n<class 'numpy.matrix'>\n<class 'numpy.matrix'>\n<class 'numpy.matrix'>\n<class 'numpy.matrix'>\n<class 'numpy.matrix'>\n<class 'numpy.matrix'>\n<class 'numpy.matrix'>\n<class 'numpy.matrix'>\n<class 'numpy.matrix'>\n<class 'numpy.matrix'>\n<class 'numpy.matrix'>\n<class 'numpy.matrix'>\n<class 'numpy.matrix'>\n<class 'numpy.matrix'>\n<class 'numpy.matrix'>\n<class 'numpy.matrix'>\n<class 'numpy.matrix'>\n<class 'numpy.matrix'>\n<class 'numpy.matrix'>\n<class 'numpy.matrix'>\n<class 'numpy.matrix'>\n<class 'numpy.matrix'>\n<class 'numpy.matrix'>\n<class 'numpy.matrix'>\n<class 'numpy.matrix'>\n<class 'numpy.matrix'>\n<class 'numpy.matrix'>\n<class 'numpy.matrix'>\n<class 'numpy.matrix'>\n<class 'numpy.matrix'>\n<class 'numpy.matrix'>\n<class 'numpy.matrix'>\n<class 'numpy.matrix'>\n<class 'numpy.matrix'>\n<class 'numpy.matrix'>\n<class 'numpy.matrix'>\n<class 'numpy.matrix'>\n<class 'numpy.matrix'>\n<class 'numpy.matrix'>\n<class 'numpy.matrix'>\n<class 'numpy.matrix'>\n<class 'numpy.matrix'>\n<class 'numpy.matrix'>\n<class 'numpy.matrix'>\n<class 'numpy.matrix'>\n<class 'numpy.matrix'>\n<class 'numpy.matrix'>\n<class 'numpy.matrix'>\n<class 'numpy.matrix'>\n<class 'numpy.matrix'>\n<class 'numpy.matrix'>\n<class 'numpy.matrix'>\n<class 'numpy.matrix'>\n<class 'numpy.matrix'>\n<class 'numpy.matrix'>\n<class 'numpy.matrix'>\n<class 'numpy.matrix'>\n<class 'numpy.matrix'>\n<class 'numpy.matrix'>\n<class 'numpy.matrix'>\n<class 'numpy.matrix'>\n<class 'numpy.matrix'>\n<class 'numpy.matrix'>\n<class 'numpy.matrix'>\n<class 'numpy.matrix'>\n<class 'numpy.matrix'>\n<class 'numpy.matrix'>\n<class 'numpy.matrix'>\n<class 'numpy.matrix'>\n<class 'numpy.matrix'>\n<class 'numpy.matrix'>\n<class 'numpy.matrix'>\n<class 'numpy.matrix'>\n<class 'numpy.matrix'>\n<class 'numpy.matrix'>\n<class 'numpy.matrix'>\n<class 'numpy.matrix'>\n<class 'numpy.matrix'>\n<class 'numpy.matrix'>\n<class 'numpy.matrix'>\n<class 'numpy.matrix'>\n<class 'numpy.matrix'>\n"
    }
   ],
   "source": [
    "H = G \n",
    "codewords = []\n",
    "for word in spacewords: \n",
    "    \n",
    "    number_list = np.matrix(word)*H.T %2\n",
    "    if number_list.sum() == 0: \n",
    "        codewords.append(word)\n",
    "        print(word)\n",
    "\n",
    "    \n",
    "\n",
    "   "
   ]
  },
  {
   "cell_type": "code",
   "execution_count": 67,
   "metadata": {},
   "outputs": [
    {
     "output_type": "error",
     "ename": "ValueError",
     "evalue": "operands could not be broadcast together with shapes (2,) (6,) ",
     "traceback": [
      "\u001b[0;31m---------------------------------------------------------------------------\u001b[0m",
      "\u001b[0;31mValueError\u001b[0m                                Traceback (most recent call last)",
      "\u001b[0;32m<ipython-input-67-b44f39ea6b3d>\u001b[0m in \u001b[0;36m<module>\u001b[0;34m\u001b[0m\n\u001b[0;32m----> 1\u001b[0;31m \u001b[0mnp\u001b[0m\u001b[0;34m.\u001b[0m\u001b[0marray\u001b[0m\u001b[0;34m(\u001b[0m\u001b[0;34m[\u001b[0m\u001b[0;36m1\u001b[0m\u001b[0;34m,\u001b[0m\u001b[0;36m1\u001b[0m\u001b[0;34m]\u001b[0m\u001b[0;34m)\u001b[0m\u001b[0;34m*\u001b[0m\u001b[0mnp\u001b[0m\u001b[0;34m.\u001b[0m\u001b[0marray\u001b[0m\u001b[0;34m(\u001b[0m\u001b[0;34m[\u001b[0m\u001b[0;36m2\u001b[0m\u001b[0;34m,\u001b[0m\u001b[0;36m1\u001b[0m\u001b[0;34m,\u001b[0m\u001b[0;36m1\u001b[0m\u001b[0;34m,\u001b[0m\u001b[0;36m1\u001b[0m\u001b[0;34m,\u001b[0m\u001b[0;36m1\u001b[0m\u001b[0;34m,\u001b[0m\u001b[0;36m1\u001b[0m\u001b[0;34m]\u001b[0m\u001b[0;34m)\u001b[0m\u001b[0;34m\u001b[0m\u001b[0;34m\u001b[0m\u001b[0m\n\u001b[0m",
      "\u001b[0;31mValueError\u001b[0m: operands could not be broadcast together with shapes (2,) (6,) "
     ]
    }
   ],
   "source": [
    "np.array([1,1])*np.array([2,1])"
   ]
  },
  {
   "cell_type": "code",
   "execution_count": 71,
   "metadata": {},
   "outputs": [
    {
     "output_type": "execute_result",
     "data": {
      "text/plain": "matrix([[1, 0, 0, 0],\n        [0, 1, 0, 0],\n        [1, 0, 1, 0],\n        [0, 1, 1, 0],\n        [1, 0, 0, 1],\n        [0, 1, 0, 1],\n        [1, 0, 1, 1],\n        [0, 1, 1, 1]])"
     },
     "metadata": {},
     "execution_count": 71
    }
   ],
   "source": [
    "H.T"
   ]
  },
  {
   "cell_type": "code",
   "execution_count": null,
   "metadata": {},
   "outputs": [],
   "source": []
  }
 ],
 "metadata": {
  "language_info": {
   "codemirror_mode": {
    "name": "ipython",
    "version": 3
   },
   "file_extension": ".py",
   "mimetype": "text/x-python",
   "name": "python",
   "nbconvert_exporter": "python",
   "pygments_lexer": "ipython3",
   "version": "3.7.4-final"
  },
  "orig_nbformat": 2,
  "kernelspec": {
   "name": "python37464bit24d5e01197ab4a289239a99fb434eff8",
   "display_name": "Python 3.7.4 64-bit"
  }
 },
 "nbformat": 4,
 "nbformat_minor": 2
}
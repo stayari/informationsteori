{
 "cells": [
  {
   "cell_type": "markdown",
   "metadata": {},
   "source": [
    "Handin 3 EITN45"
   ]
  },
  {
   "cell_type": "markdown",
   "metadata": {},
   "source": [
    "TODO: \n",
    "\u000f- Use the above induction formula to derive the generator matrix G(1, 3).\n",
    "\n",
    "\u000f- List all codewords and determine dmin. How many errors can be corrected? How many errors can be detected?\n",
    "\n",
    "\u000f- Verify that H = G, i.e. that GGT = 0. That means the generator matrix is its own parity check matrix, and such code is said to be self dual.1\n",
    "\n",
    "\u000f- Write the syndrome table for all single errors that can occur on the channel.\n",
    "\n",
    "\u000f- Choose a codeword and introduce a correctable error in it. Decode using the syndrome table."
   ]
  },
  {
   "cell_type": "code",
   "execution_count": 19,
   "metadata": {},
   "outputs": [],
   "source": [
    "import sys\n",
    "import os\n",
    "sys.path.append(os.path.abspath(\"../handin1\"))\n",
    "import HandIn1 as h\n",
    "import numpy as np"
   ]
  },
  {
   "cell_type": "code",
   "execution_count": 20,
   "metadata": {},
   "outputs": [],
   "source": [
    "IT = h.InfoTheory()\n"
   ]
  },
  {
   "cell_type": "code",
   "execution_count": 21,
   "metadata": {},
   "outputs": [],
   "source": [
    "def reed_muller(r, m):\n",
    "    ''' The function calculates the reed muller \n",
    "    '''\n",
    "    G = np.array([1])\n",
    "    print(G)"
   ]
  },
  {
   "cell_type": "code",
   "execution_count": 18,
   "metadata": {},
   "outputs": [
    {
     "output_type": "error",
     "ename": "TypeError",
     "evalue": "reed_muller() missing 2 required positional arguments: 'r' and 'm'",
     "traceback": [
      "\u001b[0;31m---------------------------------------------------------------------------\u001b[0m",
      "\u001b[0;31mTypeError\u001b[0m                                 Traceback (most recent call last)",
      "\u001b[0;32m<ipython-input-18-2307039a1930>\u001b[0m in \u001b[0;36m<module>\u001b[0;34m\u001b[0m\n\u001b[0;32m----> 1\u001b[0;31m \u001b[0mreed_muller\u001b[0m\u001b[0;34m(\u001b[0m\u001b[0;34m)\u001b[0m\u001b[0;34m\u001b[0m\u001b[0;34m\u001b[0m\u001b[0m\n\u001b[0m",
      "\u001b[0;31mTypeError\u001b[0m: reed_muller() missing 2 required positional arguments: 'r' and 'm'"
     ]
    }
   ],
   "source": [
    "reed_muller()"
   ]
  },
  {
   "cell_type": "code",
   "execution_count": null,
   "metadata": {},
   "outputs": [],
   "source": []
  }
 ],
 "metadata": {
  "language_info": {
   "codemirror_mode": {
    "name": "ipython",
    "version": 3
   },
   "file_extension": ".py",
   "mimetype": "text/x-python",
   "name": "python",
   "nbconvert_exporter": "python",
   "pygments_lexer": "ipython3",
   "version": "3.7.7-final"
  },
  "orig_nbformat": 2,
  "kernelspec": {
   "name": "python37764bit645274107c1c477890254a720d8a597a",
   "display_name": "Python 3.7.7 64-bit"
  }
 },
 "nbformat": 4,
 "nbformat_minor": 2
}
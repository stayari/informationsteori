{
 "cells": [
  {
   "cell_type": "code",
   "execution_count": 4,
   "metadata": {},
   "outputs": [],
   "source": [
    "import numpy as np"
   ]
  },
  {
   "cell_type": "code",
   "execution_count": 6,
   "metadata": {},
   "outputs": [],
   "source": [
    "G = np.matrix([\n",
    "    [1, 0, 1, 0, 1, 0, 1, 0],\n",
    "    [0, 1, 0, 1, 0, 1, 0, 1],\n",
    "    [0, 0, 1, 1, 0, 0, 1, 1],\n",
    "    [0, 0, 0, 0, 1, 1, 1, 1]\n",
    "])"
   ]
  },
  {
   "cell_type": "code",
   "execution_count": 7,
   "metadata": {},
   "outputs": [],
   "source": [
    "\n",
    "def create_binary_list():\n",
    "    '''Returns a list of all binary representation of numbers 0-255'''\n",
    "    spacewords = []\n",
    "    for i in range(256):\n",
    "        l = []\n",
    "        binary = \"{0:b}\".format(i)\n",
    "        zeros = 8 - len(binary)\n",
    "        for _ in range(zeros):\n",
    "            l.append(0)\n",
    "        \n",
    "        for char in binary: \n",
    "            l.append(int(char))\n",
    "        \n",
    "        spacewords.append(l)\n",
    "    \n",
    "    return spacewords"
   ]
  },
  {
   "cell_type": "code",
   "execution_count": 8,
   "metadata": {},
   "outputs": [],
   "source": [
    "spacewords = create_binary_list()"
   ]
  },
  {
   "cell_type": "code",
   "execution_count": 10,
   "metadata": {},
   "outputs": [
    {
     "output_type": "stream",
     "name": "stdout",
     "text": "[0, 0, 0, 0, 0, 0, 0, 0]\n[0, 0, 0, 0, 1, 1, 1, 1]\n[0, 0, 1, 1, 0, 0, 1, 1]\n[0, 0, 1, 1, 1, 1, 0, 0]\n[0, 1, 0, 1, 0, 1, 0, 1]\n[0, 1, 0, 1, 1, 0, 1, 0]\n[0, 1, 1, 0, 0, 1, 1, 0]\n[0, 1, 1, 0, 1, 0, 0, 1]\n[1, 0, 0, 1, 0, 1, 1, 0]\n[1, 0, 0, 1, 1, 0, 0, 1]\n[1, 0, 1, 0, 0, 1, 0, 1]\n[1, 0, 1, 0, 1, 0, 1, 0]\n[1, 1, 0, 0, 0, 0, 1, 1]\n[1, 1, 0, 0, 1, 1, 0, 0]\n[1, 1, 1, 1, 0, 0, 0, 0]\n[1, 1, 1, 1, 1, 1, 1, 1]\n"
    }
   ],
   "source": [
    "H = G \n",
    "codewords = []\n",
    "for word in spacewords: \n",
    "    number_list = np.matrix(word)*H.T %2\n",
    "    if number_list.sum() == 0: \n",
    "        codewords.append(word)\n",
    "        \n",
    "for word in codewords: print(word)"
   ]
  },
  {
   "cell_type": "code",
   "execution_count": 103,
   "metadata": {
    "tags": [
     "outputPrepend"
    ]
   },
   "outputs": [
    {
     "output_type": "stream",
     "name": "stdout",
     "text": "Dmin 100, distane 0, i [[0 0 0 0 0 0 0 0]], j [[0 0 0 0 0 0 0 0]]\nDmin 4, distane 4, i [[0 0 0 0 0 0 0 0]], j [[0 0 0 0 1 1 1 1]]\nDmin 4, distane 4, i [[0 0 0 0 0 0 0 0]], j [[0 0 1 1 0 0 1 1]]\nDmin 4, distane 4, i [[0 0 0 0 0 0 0 0]], j [[0 0 1 1 1 1 0 0]]\nDmin 4, distane 5, i [[0 0 0 0 0 0 0 0]], j [[0 1 0 1 0 1 1 1]]\nDmin 4, distane 5, i [[0 0 0 0 0 0 0 0]], j [[1 1 0 1 1 0 1 0]]\nDmin 4, distane 5, i [[0 0 0 0 0 0 0 0]], j [[0 1 1 0 0 1 1 1]]\nDmin 4, distane 4, i [[0 0 0 0 0 0 0 0]], j [[0 1 1 0 1 0 0 1]]\nDmin 4, distane 4, i [[0 0 0 0 0 0 0 0]], j [[1 0 0 1 0 1 1 0]]\nDmin 4, distane 4, i [[0 0 0 0 0 0 0 0]], j [[1 0 0 1 1 0 0 1]]\nDmin 4, distane 4, i [[0 0 0 0 0 0 0 0]], j [[1 0 1 0 0 1 0 1]]\nDmin 4, distane 4, i [[0 0 0 0 0 0 0 0]], j [[1 0 1 0 1 0 1 0]]\nDmin 4, distane 4, i [[0 0 0 0 0 0 0 0]], j [[1 1 0 0 0 0 1 1]]\nDmin 4, distane 4, i [[0 0 0 0 0 0 0 0]], j [[1 1 0 0 1 1 0 0]]\nDmin 4, distane 4, i [[0 0 0 0 0 0 0 0]], j [[1 1 1 1 0 0 0 0]]\nDmin 4, distane 8, i [[0 0 0 0 0 0 0 0]], j [[1 1 1 1 1 1 1 1]]\nDmin 4, distane 4, i [[0 0 0 0 1 1 1 1]], j [[0 0 0 0 0 0 0 0]]\nDmin 4, distane 0, i [[0 0 0 0 1 1 1 1]], j [[0 0 0 0 1 1 1 1]]\nDmin 4, distane 4, i [[0 0 0 0 1 1 1 1]], j [[0 0 1 1 0 0 1 1]]\nDmin 4, distane 4, i [[0 0 0 0 1 1 1 1]], j [[0 0 1 1 1 1 0 0]]\nDmin 3, distane 3, i [[0 0 0 0 1 1 1 1]], j [[0 1 0 1 0 1 1 1]]\nDmin 3, distane 5, i [[0 0 0 0 1 1 1 1]], j [[1 1 0 1 1 0 1 0]]\nDmin 3, distane 3, i [[0 0 0 0 1 1 1 1]], j [[0 1 1 0 0 1 1 1]]\nDmin 3, distane 4, i [[0 0 0 0 1 1 1 1]], j [[0 1 1 0 1 0 0 1]]\nDmin 3, distane 4, i [[0 0 0 0 1 1 1 1]], j [[1 0 0 1 0 1 1 0]]\nDmin 3, distane 4, i [[0 0 0 0 1 1 1 1]], j [[1 0 0 1 1 0 0 1]]\nDmin 3, distane 4, i [[0 0 0 0 1 1 1 1]], j [[1 0 1 0 0 1 0 1]]\nDmin 3, distane 4, i [[0 0 0 0 1 1 1 1]], j [[1 0 1 0 1 0 1 0]]\nDmin 3, distane 4, i [[0 0 0 0 1 1 1 1]], j [[1 1 0 0 0 0 1 1]]\nDmin 3, distane 4, i [[0 0 0 0 1 1 1 1]], j [[1 1 0 0 1 1 0 0]]\nDmin 3, distane 8, i [[0 0 0 0 1 1 1 1]], j [[1 1 1 1 0 0 0 0]]\nDmin 3, distane 4, i [[0 0 0 0 1 1 1 1]], j [[1 1 1 1 1 1 1 1]]\nDmin 3, distane 4, i [[0 0 1 1 0 0 1 1]], j [[0 0 0 0 0 0 0 0]]\nDmin 3, distane 4, i [[0 0 1 1 0 0 1 1]], j [[0 0 0 0 1 1 1 1]]\nDmin 3, distane 0, i [[0 0 1 1 0 0 1 1]], j [[0 0 1 1 0 0 1 1]]\nDmin 3, distane 4, i [[0 0 1 1 0 0 1 1]], j [[0 0 1 1 1 1 0 0]]\nDmin 3, distane 3, i [[0 0 1 1 0 0 1 1]], j [[0 1 0 1 0 1 1 1]]\nDmin 3, distane 5, i [[0 0 1 1 0 0 1 1]], j [[1 1 0 1 1 0 1 0]]\nDmin 3, distane 3, i [[0 0 1 1 0 0 1 1]], j [[0 1 1 0 0 1 1 1]]\nDmin 3, distane 4, i [[0 0 1 1 0 0 1 1]], j [[0 1 1 0 1 0 0 1]]\nDmin 3, distane 4, i [[0 0 1 1 0 0 1 1]], j [[1 0 0 1 0 1 1 0]]\nDmin 3, distane 4, i [[0 0 1 1 0 0 1 1]], j [[1 0 0 1 1 0 0 1]]\nDmin 3, distane 4, i [[0 0 1 1 0 0 1 1]], j [[1 0 1 0 0 1 0 1]]\nDmin 3, distane 4, i [[0 0 1 1 0 0 1 1]], j [[1 0 1 0 1 0 1 0]]\nDmin 3, distane 4, i [[0 0 1 1 0 0 1 1]], j [[1 1 0 0 0 0 1 1]]\nDmin 3, distane 8, i [[0 0 1 1 0 0 1 1]], j [[1 1 0 0 1 1 0 0]]\nDmin 3, distane 4, i [[0 0 1 1 0 0 1 1]], j [[1 1 1 1 0 0 0 0]]\nDmin 3, distane 4, i [[0 0 1 1 0 0 1 1]], j [[1 1 1 1 1 1 1 1]]\nDmin 3, distane 4, i [[0 0 1 1 1 1 0 0]], j [[0 0 0 0 0 0 0 0]]\nDmin 3, distane 4, i [[0 0 1 1 1 1 0 0]], j [[0 0 0 0 1 1 1 1]]\nDmin 3, distane 4, i [[0 0 1 1 1 1 0 0]], j [[0 0 1 1 0 0 1 1]]\nDmin 3, distane 0, i [[0 0 1 1 1 1 0 0]], j [[0 0 1 1 1 1 0 0]]\nDmin 3, distane 5, i [[0 0 1 1 1 1 0 0]], j [[0 1 0 1 0 1 1 1]]\nDmin 3, distane 5, i [[0 0 1 1 1 1 0 0]], j [[1 1 0 1 1 0 1 0]]\nDmin 3, distane 5, i [[0 0 1 1 1 1 0 0]], j [[0 1 1 0 0 1 1 1]]\nDmin 3, distane 4, i [[0 0 1 1 1 1 0 0]], j [[0 1 1 0 1 0 0 1]]\nDmin 3, distane 4, i [[0 0 1 1 1 1 0 0]], j [[1 0 0 1 0 1 1 0]]\nDmin 3, distane 4, i [[0 0 1 1 1 1 0 0]], j [[1 0 0 1 1 0 0 1]]\nDmin 3, distane 4, i [[0 0 1 1 1 1 0 0]], j [[1 0 1 0 0 1 0 1]]\nDmin 3, distane 4, i [[0 0 1 1 1 1 0 0]], j [[1 0 1 0 1 0 1 0]]\nDmin 3, distane 8, i [[0 0 1 1 1 1 0 0]], j [[1 1 0 0 0 0 1 1]]\nDmin 3, distane 4, i [[0 0 1 1 1 1 0 0]], j [[1 1 0 0 1 1 0 0]]\nDmin 3, distane 4, i [[0 0 1 1 1 1 0 0]], j [[1 1 1 1 0 0 0 0]]\nDmin 3, distane 4, i [[0 0 1 1 1 1 0 0]], j [[1 1 1 1 1 1 1 1]]\nDmin 3, distane 5, i [[0 1 0 1 0 1 1 1]], j [[0 0 0 0 0 0 0 0]]\nDmin 3, distane 3, i [[0 1 0 1 0 1 1 1]], j [[0 0 0 0 1 1 1 1]]\nDmin 3, distane 3, i [[0 1 0 1 0 1 1 1]], j [[0 0 1 1 0 0 1 1]]\nDmin 3, distane 5, i [[0 1 0 1 0 1 1 1]], j [[0 0 1 1 1 1 0 0]]\nDmin 3, distane 0, i [[0 1 0 1 0 1 1 1]], j [[0 1 0 1 0 1 1 1]]\nDmin 3, distane 4, i [[0 1 0 1 0 1 1 1]], j [[1 1 0 1 1 0 1 0]]\nDmin 2, distane 2, i [[0 1 0 1 0 1 1 1]], j [[0 1 1 0 0 1 1 1]]\nDmin 2, distane 5, i [[0 1 0 1 0 1 1 1]], j [[0 1 1 0 1 0 0 1]]\nDmin 2, distane 3, i [[0 1 0 1 0 1 1 1]], j [[1 0 0 1 0 1 1 0]]\nDmin 2, distane 5, i [[0 1 0 1 0 1 1 1]], j [[1 0 0 1 1 0 0 1]]\nDmin 2, distane 5, i [[0 1 0 1 0 1 1 1]], j [[1 0 1 0 0 1 0 1]]\nDmin 2, distane 7, i [[0 1 0 1 0 1 1 1]], j [[1 0 1 0 1 0 1 0]]\nDmin 2, distane 3, i [[0 1 0 1 0 1 1 1]], j [[1 1 0 0 0 0 1 1]]\nDmin 2, distane 5, i [[0 1 0 1 0 1 1 1]], j [[1 1 0 0 1 1 0 0]]\nDmin 2, distane 5, i [[0 1 0 1 0 1 1 1]], j [[1 1 1 1 0 0 0 0]]\nDmin 2, distane 3, i [[0 1 0 1 0 1 1 1]], j [[1 1 1 1 1 1 1 1]]\nDmin 2, distane 5, i [[1 1 0 1 1 0 1 0]], j [[0 0 0 0 0 0 0 0]]\nDmin 2, distane 5, i [[1 1 0 1 1 0 1 0]], j [[0 0 0 0 1 1 1 1]]\nDmin 2, distane 5, i [[1 1 0 1 1 0 1 0]], j [[0 0 1 1 0 0 1 1]]\nDmin 2, distane 5, i [[1 1 0 1 1 0 1 0]], j [[0 0 1 1 1 1 0 0]]\nDmin 2, distane 4, i [[1 1 0 1 1 0 1 0]], j [[0 1 0 1 0 1 1 1]]\nDmin 2, distane 0, i [[1 1 0 1 1 0 1 0]], j [[1 1 0 1 1 0 1 0]]\nDmin 2, distane 6, i [[1 1 0 1 1 0 1 0]], j [[0 1 1 0 0 1 1 1]]\nDmin 2, distane 5, i [[1 1 0 1 1 0 1 0]], j [[0 1 1 0 1 0 0 1]]\nDmin 2, distane 3, i [[1 1 0 1 1 0 1 0]], j [[1 0 0 1 0 1 1 0]]\nDmin 2, distane 3, i [[1 1 0 1 1 0 1 0]], j [[1 0 0 1 1 0 0 1]]\nDmin 2, distane 7, i [[1 1 0 1 1 0 1 0]], j [[1 0 1 0 0 1 0 1]]\nDmin 2, distane 3, i [[1 1 0 1 1 0 1 0]], j [[1 0 1 0 1 0 1 0]]\nDmin 2, distane 3, i [[1 1 0 1 1 0 1 0]], j [[1 1 0 0 0 0 1 1]]\nDmin 2, distane 3, i [[1 1 0 1 1 0 1 0]], j [[1 1 0 0 1 1 0 0]]\nDmin 2, distane 3, i [[1 1 0 1 1 0 1 0]], j [[1 1 1 1 0 0 0 0]]\nDmin 2, distane 3, i [[1 1 0 1 1 0 1 0]], j [[1 1 1 1 1 1 1 1]]\nDmin 2, distane 5, i [[0 1 1 0 0 1 1 1]], j [[0 0 0 0 0 0 0 0]]\nDmin 2, distane 3, i [[0 1 1 0 0 1 1 1]], j [[0 0 0 0 1 1 1 1]]\nDmin 2, distane 3, i [[0 1 1 0 0 1 1 1]], j [[0 0 1 1 0 0 1 1]]\nDmin 2, distane 5, i [[0 1 1 0 0 1 1 1]], j [[0 0 1 1 1 1 0 0]]\nDmin 2, distane 2, i [[0 1 1 0 0 1 1 1]], j [[0 1 0 1 0 1 1 1]]\nDmin 2, distane 6, i [[0 1 1 0 0 1 1 1]], j [[1 1 0 1 1 0 1 0]]\nDmin 2, distane 0, i [[0 1 1 0 0 1 1 1]], j [[0 1 1 0 0 1 1 1]]\nDmin 2, distane 3, i [[0 1 1 0 0 1 1 1]], j [[0 1 1 0 1 0 0 1]]\nDmin 2, distane 5, i [[0 1 1 0 0 1 1 1]], j [[1 0 0 1 0 1 1 0]]\nDmin 2, distane 7, i [[0 1 1 0 0 1 1 1]], j [[1 0 0 1 1 0 0 1]]\nDmin 2, distane 3, i [[0 1 1 0 0 1 1 1]], j [[1 0 1 0 0 1 0 1]]\nDmin 2, distane 5, i [[0 1 1 0 0 1 1 1]], j [[1 0 1 0 1 0 1 0]]\nDmin 2, distane 3, i [[0 1 1 0 0 1 1 1]], j [[1 1 0 0 0 0 1 1]]\nDmin 2, distane 5, i [[0 1 1 0 0 1 1 1]], j [[1 1 0 0 1 1 0 0]]\nDmin 2, distane 5, i [[0 1 1 0 0 1 1 1]], j [[1 1 1 1 0 0 0 0]]\nDmin 2, distane 3, i [[0 1 1 0 0 1 1 1]], j [[1 1 1 1 1 1 1 1]]\nDmin 2, distane 4, i [[0 1 1 0 1 0 0 1]], j [[0 0 0 0 0 0 0 0]]\nDmin 2, distane 4, i [[0 1 1 0 1 0 0 1]], j [[0 0 0 0 1 1 1 1]]\nDmin 2, distane 4, i [[0 1 1 0 1 0 0 1]], j [[0 0 1 1 0 0 1 1]]\nDmin 2, distane 4, i [[0 1 1 0 1 0 0 1]], j [[0 0 1 1 1 1 0 0]]\nDmin 2, distane 5, i [[0 1 1 0 1 0 0 1]], j [[0 1 0 1 0 1 1 1]]\nDmin 2, distane 5, i [[0 1 1 0 1 0 0 1]], j [[1 1 0 1 1 0 1 0]]\nDmin 2, distane 3, i [[0 1 1 0 1 0 0 1]], j [[0 1 1 0 0 1 1 1]]\nDmin 2, distane 0, i [[0 1 1 0 1 0 0 1]], j [[0 1 1 0 1 0 0 1]]\nDmin 2, distane 8, i [[0 1 1 0 1 0 0 1]], j [[1 0 0 1 0 1 1 0]]\nDmin 2, distane 4, i [[0 1 1 0 1 0 0 1]], j [[1 0 0 1 1 0 0 1]]\nDmin 2, distane 4, i [[0 1 1 0 1 0 0 1]], j [[1 0 1 0 0 1 0 1]]\nDmin 2, distane 4, i [[0 1 1 0 1 0 0 1]], j [[1 0 1 0 1 0 1 0]]\nDmin 2, distane 4, i [[0 1 1 0 1 0 0 1]], j [[1 1 0 0 0 0 1 1]]\nDmin 2, distane 4, i [[0 1 1 0 1 0 0 1]], j [[1 1 0 0 1 1 0 0]]\nDmin 2, distane 4, i [[0 1 1 0 1 0 0 1]], j [[1 1 1 1 0 0 0 0]]\nDmin 2, distane 4, i [[0 1 1 0 1 0 0 1]], j [[1 1 1 1 1 1 1 1]]\nDmin 2, distane 4, i [[1 0 0 1 0 1 1 0]], j [[0 0 0 0 0 0 0 0]]\nDmin 2, distane 4, i [[1 0 0 1 0 1 1 0]], j [[0 0 0 0 1 1 1 1]]\nDmin 2, distane 4, i [[1 0 0 1 0 1 1 0]], j [[0 0 1 1 0 0 1 1]]\nDmin 2, distane 4, i [[1 0 0 1 0 1 1 0]], j [[0 0 1 1 1 1 0 0]]\nDmin 2, distane 3, i [[1 0 0 1 0 1 1 0]], j [[0 1 0 1 0 1 1 1]]\nDmin 2, distane 3, i [[1 0 0 1 0 1 1 0]], j [[1 1 0 1 1 0 1 0]]\nDmin 2, distane 5, i [[1 0 0 1 0 1 1 0]], j [[0 1 1 0 0 1 1 1]]\nDmin 2, distane 8, i [[1 0 0 1 0 1 1 0]], j [[0 1 1 0 1 0 0 1]]\nDmin 2, distane 0, i [[1 0 0 1 0 1 1 0]], j [[1 0 0 1 0 1 1 0]]\nDmin 2, distane 4, i [[1 0 0 1 0 1 1 0]], j [[1 0 0 1 1 0 0 1]]\nDmin 2, distane 4, i [[1 0 0 1 0 1 1 0]], j [[1 0 1 0 0 1 0 1]]\nDmin 2, distane 4, i [[1 0 0 1 0 1 1 0]], j [[1 0 1 0 1 0 1 0]]\nDmin 2, distane 4, i [[1 0 0 1 0 1 1 0]], j [[1 1 0 0 0 0 1 1]]\nDmin 2, distane 4, i [[1 0 0 1 0 1 1 0]], j [[1 1 0 0 1 1 0 0]]\nDmin 2, distane 4, i [[1 0 0 1 0 1 1 0]], j [[1 1 1 1 0 0 0 0]]\nDmin 2, distane 4, i [[1 0 0 1 0 1 1 0]], j [[1 1 1 1 1 1 1 1]]\nDmin 2, distane 4, i [[1 0 0 1 1 0 0 1]], j [[0 0 0 0 0 0 0 0]]\nDmin 2, distane 4, i [[1 0 0 1 1 0 0 1]], j [[0 0 0 0 1 1 1 1]]\nDmin 2, distane 4, i [[1 0 0 1 1 0 0 1]], j [[0 0 1 1 0 0 1 1]]\nDmin 2, distane 4, i [[1 0 0 1 1 0 0 1]], j [[0 0 1 1 1 1 0 0]]\nDmin 2, distane 5, i [[1 0 0 1 1 0 0 1]], j [[0 1 0 1 0 1 1 1]]\nDmin 2, distane 3, i [[1 0 0 1 1 0 0 1]], j [[1 1 0 1 1 0 1 0]]\nDmin 2, distane 7, i [[1 0 0 1 1 0 0 1]], j [[0 1 1 0 0 1 1 1]]\nDmin 2, distane 4, i [[1 0 0 1 1 0 0 1]], j [[0 1 1 0 1 0 0 1]]\nDmin 2, distane 4, i [[1 0 0 1 1 0 0 1]], j [[1 0 0 1 0 1 1 0]]\nDmin 2, distane 0, i [[1 0 0 1 1 0 0 1]], j [[1 0 0 1 1 0 0 1]]\nDmin 2, distane 4, i [[1 0 0 1 1 0 0 1]], j [[1 0 1 0 0 1 0 1]]\nDmin 2, distane 4, i [[1 0 0 1 1 0 0 1]], j [[1 0 1 0 1 0 1 0]]\nDmin 2, distane 4, i [[1 0 0 1 1 0 0 1]], j [[1 1 0 0 0 0 1 1]]\nDmin 2, distane 4, i [[1 0 0 1 1 0 0 1]], j [[1 1 0 0 1 1 0 0]]\nDmin 2, distane 4, i [[1 0 0 1 1 0 0 1]], j [[1 1 1 1 0 0 0 0]]\nDmin 2, distane 4, i [[1 0 0 1 1 0 0 1]], j [[1 1 1 1 1 1 1 1]]\nDmin 2, distane 4, i [[1 0 1 0 0 1 0 1]], j [[0 0 0 0 0 0 0 0]]\nDmin 2, distane 4, i [[1 0 1 0 0 1 0 1]], j [[0 0 0 0 1 1 1 1]]\nDmin 2, distane 4, i [[1 0 1 0 0 1 0 1]], j [[0 0 1 1 0 0 1 1]]\nDmin 2, distane 4, i [[1 0 1 0 0 1 0 1]], j [[0 0 1 1 1 1 0 0]]\nDmin 2, distane 5, i [[1 0 1 0 0 1 0 1]], j [[0 1 0 1 0 1 1 1]]\nDmin 2, distane 7, i [[1 0 1 0 0 1 0 1]], j [[1 1 0 1 1 0 1 0]]\nDmin 2, distane 3, i [[1 0 1 0 0 1 0 1]], j [[0 1 1 0 0 1 1 1]]\nDmin 2, distane 4, i [[1 0 1 0 0 1 0 1]], j [[0 1 1 0 1 0 0 1]]\nDmin 2, distane 4, i [[1 0 1 0 0 1 0 1]], j [[1 0 0 1 0 1 1 0]]\nDmin 2, distane 4, i [[1 0 1 0 0 1 0 1]], j [[1 0 0 1 1 0 0 1]]\nDmin 2, distane 0, i [[1 0 1 0 0 1 0 1]], j [[1 0 1 0 0 1 0 1]]\nDmin 2, distane 4, i [[1 0 1 0 0 1 0 1]], j [[1 0 1 0 1 0 1 0]]\nDmin 2, distane 4, i [[1 0 1 0 0 1 0 1]], j [[1 1 0 0 0 0 1 1]]\nDmin 2, distane 4, i [[1 0 1 0 0 1 0 1]], j [[1 1 0 0 1 1 0 0]]\nDmin 2, distane 4, i [[1 0 1 0 0 1 0 1]], j [[1 1 1 1 0 0 0 0]]\nDmin 2, distane 4, i [[1 0 1 0 0 1 0 1]], j [[1 1 1 1 1 1 1 1]]\nDmin 2, distane 4, i [[1 0 1 0 1 0 1 0]], j [[0 0 0 0 0 0 0 0]]\nDmin 2, distane 4, i [[1 0 1 0 1 0 1 0]], j [[0 0 0 0 1 1 1 1]]\nDmin 2, distane 4, i [[1 0 1 0 1 0 1 0]], j [[0 0 1 1 0 0 1 1]]\nDmin 2, distane 4, i [[1 0 1 0 1 0 1 0]], j [[0 0 1 1 1 1 0 0]]\nDmin 2, distane 7, i [[1 0 1 0 1 0 1 0]], j [[0 1 0 1 0 1 1 1]]\nDmin 2, distane 3, i [[1 0 1 0 1 0 1 0]], j [[1 1 0 1 1 0 1 0]]\nDmin 2, distane 5, i [[1 0 1 0 1 0 1 0]], j [[0 1 1 0 0 1 1 1]]\nDmin 2, distane 4, i [[1 0 1 0 1 0 1 0]], j [[0 1 1 0 1 0 0 1]]\nDmin 2, distane 4, i [[1 0 1 0 1 0 1 0]], j [[1 0 0 1 0 1 1 0]]\nDmin 2, distane 4, i [[1 0 1 0 1 0 1 0]], j [[1 0 0 1 1 0 0 1]]\nDmin 2, distane 4, i [[1 0 1 0 1 0 1 0]], j [[1 0 1 0 0 1 0 1]]\nDmin 2, distane 0, i [[1 0 1 0 1 0 1 0]], j [[1 0 1 0 1 0 1 0]]\nDmin 2, distane 4, i [[1 0 1 0 1 0 1 0]], j [[1 1 0 0 0 0 1 1]]\nDmin 2, distane 4, i [[1 0 1 0 1 0 1 0]], j [[1 1 0 0 1 1 0 0]]\nDmin 2, distane 4, i [[1 0 1 0 1 0 1 0]], j [[1 1 1 1 0 0 0 0]]\nDmin 2, distane 4, i [[1 0 1 0 1 0 1 0]], j [[1 1 1 1 1 1 1 1]]\nDmin 2, distane 4, i [[1 1 0 0 0 0 1 1]], j [[0 0 0 0 0 0 0 0]]\nDmin 2, distane 4, i [[1 1 0 0 0 0 1 1]], j [[0 0 0 0 1 1 1 1]]\nDmin 2, distane 4, i [[1 1 0 0 0 0 1 1]], j [[0 0 1 1 0 0 1 1]]\nDmin 2, distane 8, i [[1 1 0 0 0 0 1 1]], j [[0 0 1 1 1 1 0 0]]\nDmin 2, distane 3, i [[1 1 0 0 0 0 1 1]], j [[0 1 0 1 0 1 1 1]]\nDmin 2, distane 3, i [[1 1 0 0 0 0 1 1]], j [[1 1 0 1 1 0 1 0]]\nDmin 2, distane 3, i [[1 1 0 0 0 0 1 1]], j [[0 1 1 0 0 1 1 1]]\nDmin 2, distane 4, i [[1 1 0 0 0 0 1 1]], j [[0 1 1 0 1 0 0 1]]\nDmin 2, distane 4, i [[1 1 0 0 0 0 1 1]], j [[1 0 0 1 0 1 1 0]]\nDmin 2, distane 4, i [[1 1 0 0 0 0 1 1]], j [[1 0 0 1 1 0 0 1]]\nDmin 2, distane 4, i [[1 1 0 0 0 0 1 1]], j [[1 0 1 0 0 1 0 1]]\nDmin 2, distane 4, i [[1 1 0 0 0 0 1 1]], j [[1 0 1 0 1 0 1 0]]\nDmin 2, distane 0, i [[1 1 0 0 0 0 1 1]], j [[1 1 0 0 0 0 1 1]]\nDmin 2, distane 4, i [[1 1 0 0 0 0 1 1]], j [[1 1 0 0 1 1 0 0]]\nDmin 2, distane 4, i [[1 1 0 0 0 0 1 1]], j [[1 1 1 1 0 0 0 0]]\nDmin 2, distane 4, i [[1 1 0 0 0 0 1 1]], j [[1 1 1 1 1 1 1 1]]\nDmin 2, distane 4, i [[1 1 0 0 1 1 0 0]], j [[0 0 0 0 0 0 0 0]]\nDmin 2, distane 4, i [[1 1 0 0 1 1 0 0]], j [[0 0 0 0 1 1 1 1]]\nDmin 2, distane 8, i [[1 1 0 0 1 1 0 0]], j [[0 0 1 1 0 0 1 1]]\nDmin 2, distane 4, i [[1 1 0 0 1 1 0 0]], j [[0 0 1 1 1 1 0 0]]\nDmin 2, distane 5, i [[1 1 0 0 1 1 0 0]], j [[0 1 0 1 0 1 1 1]]\nDmin 2, distane 3, i [[1 1 0 0 1 1 0 0]], j [[1 1 0 1 1 0 1 0]]\nDmin 2, distane 5, i [[1 1 0 0 1 1 0 0]], j [[0 1 1 0 0 1 1 1]]\nDmin 2, distane 4, i [[1 1 0 0 1 1 0 0]], j [[0 1 1 0 1 0 0 1]]\nDmin 2, distane 4, i [[1 1 0 0 1 1 0 0]], j [[1 0 0 1 0 1 1 0]]\nDmin 2, distane 4, i [[1 1 0 0 1 1 0 0]], j [[1 0 0 1 1 0 0 1]]\nDmin 2, distane 4, i [[1 1 0 0 1 1 0 0]], j [[1 0 1 0 0 1 0 1]]\nDmin 2, distane 4, i [[1 1 0 0 1 1 0 0]], j [[1 0 1 0 1 0 1 0]]\nDmin 2, distane 4, i [[1 1 0 0 1 1 0 0]], j [[1 1 0 0 0 0 1 1]]\nDmin 2, distane 0, i [[1 1 0 0 1 1 0 0]], j [[1 1 0 0 1 1 0 0]]\nDmin 2, distane 4, i [[1 1 0 0 1 1 0 0]], j [[1 1 1 1 0 0 0 0]]\nDmin 2, distane 4, i [[1 1 0 0 1 1 0 0]], j [[1 1 1 1 1 1 1 1]]\nDmin 2, distane 4, i [[1 1 1 1 0 0 0 0]], j [[0 0 0 0 0 0 0 0]]\nDmin 2, distane 8, i [[1 1 1 1 0 0 0 0]], j [[0 0 0 0 1 1 1 1]]\nDmin 2, distane 4, i [[1 1 1 1 0 0 0 0]], j [[0 0 1 1 0 0 1 1]]\nDmin 2, distane 4, i [[1 1 1 1 0 0 0 0]], j [[0 0 1 1 1 1 0 0]]\nDmin 2, distane 5, i [[1 1 1 1 0 0 0 0]], j [[0 1 0 1 0 1 1 1]]\nDmin 2, distane 3, i [[1 1 1 1 0 0 0 0]], j [[1 1 0 1 1 0 1 0]]\nDmin 2, distane 5, i [[1 1 1 1 0 0 0 0]], j [[0 1 1 0 0 1 1 1]]\nDmin 2, distane 4, i [[1 1 1 1 0 0 0 0]], j [[0 1 1 0 1 0 0 1]]\nDmin 2, distane 4, i [[1 1 1 1 0 0 0 0]], j [[1 0 0 1 0 1 1 0]]\nDmin 2, distane 4, i [[1 1 1 1 0 0 0 0]], j [[1 0 0 1 1 0 0 1]]\nDmin 2, distane 4, i [[1 1 1 1 0 0 0 0]], j [[1 0 1 0 0 1 0 1]]\nDmin 2, distane 4, i [[1 1 1 1 0 0 0 0]], j [[1 0 1 0 1 0 1 0]]\nDmin 2, distane 4, i [[1 1 1 1 0 0 0 0]], j [[1 1 0 0 0 0 1 1]]\nDmin 2, distane 4, i [[1 1 1 1 0 0 0 0]], j [[1 1 0 0 1 1 0 0]]\nDmin 2, distane 0, i [[1 1 1 1 0 0 0 0]], j [[1 1 1 1 0 0 0 0]]\nDmin 2, distane 4, i [[1 1 1 1 0 0 0 0]], j [[1 1 1 1 1 1 1 1]]\nDmin 2, distane 8, i [[1 1 1 1 1 1 1 1]], j [[0 0 0 0 0 0 0 0]]\nDmin 2, distane 4, i [[1 1 1 1 1 1 1 1]], j [[0 0 0 0 1 1 1 1]]\nDmin 2, distane 4, i [[1 1 1 1 1 1 1 1]], j [[0 0 1 1 0 0 1 1]]\nDmin 2, distane 4, i [[1 1 1 1 1 1 1 1]], j [[0 0 1 1 1 1 0 0]]\nDmin 2, distane 3, i [[1 1 1 1 1 1 1 1]], j [[0 1 0 1 0 1 1 1]]\nDmin 2, distane 3, i [[1 1 1 1 1 1 1 1]], j [[1 1 0 1 1 0 1 0]]\nDmin 2, distane 3, i [[1 1 1 1 1 1 1 1]], j [[0 1 1 0 0 1 1 1]]\nDmin 2, distane 4, i [[1 1 1 1 1 1 1 1]], j [[0 1 1 0 1 0 0 1]]\nDmin 2, distane 4, i [[1 1 1 1 1 1 1 1]], j [[1 0 0 1 0 1 1 0]]\nDmin 2, distane 4, i [[1 1 1 1 1 1 1 1]], j [[1 0 0 1 1 0 0 1]]\nDmin 2, distane 4, i [[1 1 1 1 1 1 1 1]], j [[1 0 1 0 0 1 0 1]]\nDmin 2, distane 4, i [[1 1 1 1 1 1 1 1]], j [[1 0 1 0 1 0 1 0]]\nDmin 2, distane 4, i [[1 1 1 1 1 1 1 1]], j [[1 1 0 0 0 0 1 1]]\nDmin 2, distane 4, i [[1 1 1 1 1 1 1 1]], j [[1 1 0 0 1 1 0 0]]\nDmin 2, distane 4, i [[1 1 1 1 1 1 1 1]], j [[1 1 1 1 0 0 0 0]]\nDmin 2, distane 0, i [[1 1 1 1 1 1 1 1]], j [[1 1 1 1 1 1 1 1]]\n"
    },
    {
     "output_type": "execute_result",
     "data": {
      "text/plain": "2"
     },
     "metadata": {},
     "execution_count": 103
    }
   ],
   "source": [
    "'''def minimum_distance(generator_matrix): \n",
    "    codewords = np.matrix(codewords)\n",
    "    d_min = 100\n",
    "    for word_i in codewords: \n",
    "        for word_j in codewords: \n",
    "            distance = np.sum((word_i + word_j)%2)\n",
    "            #print(np.sum((word_i + word_j)%2))\n",
    "            if ((distance < d_min) & (distance != 0)): \n",
    "                d_min = distance\n",
    "            print(\"Dmin {}, distane {}, i {}, j {}\".format(d_min, distance, word_i, word_j))\n",
    "\n",
    "    #for word in codewords:\n",
    "    #    print(word)\n",
    "    return d_min\n",
    "\n",
    "\n",
    "minimum_distance(codewords)\n",
    "''''"
   ]
  },
  {
   "cell_type": "code",
   "execution_count": 120,
   "metadata": {},
   "outputs": [
    {
     "output_type": "error",
     "ename": "KeyError",
     "evalue": "0",
     "traceback": [
      "\u001b[0;31m---------------------------------------------------------------------------\u001b[0m",
      "\u001b[0;31mKeyError\u001b[0m                                  Traceback (most recent call last)",
      "\u001b[0;32m<ipython-input-120-af9ebbb271a8>\u001b[0m in \u001b[0;36m<module>\u001b[0;34m\u001b[0m\n\u001b[1;32m      4\u001b[0m     \u001b[0;31m#print(\"Sum is: {}, and row is: {}\".format(np.sum(row), row))\u001b[0m\u001b[0;34m\u001b[0m\u001b[0;34m\u001b[0m\u001b[0;34m\u001b[0m\u001b[0m\n\u001b[1;32m      5\u001b[0m     \u001b[0mrow_sum\u001b[0m \u001b[0;34m=\u001b[0m \u001b[0mnp\u001b[0m\u001b[0;34m.\u001b[0m\u001b[0msum\u001b[0m\u001b[0;34m(\u001b[0m\u001b[0mrow\u001b[0m\u001b[0;34m)\u001b[0m\u001b[0;34m\u001b[0m\u001b[0;34m\u001b[0m\u001b[0m\n\u001b[0;32m----> 6\u001b[0;31m     \u001b[0mdict_count\u001b[0m\u001b[0;34m[\u001b[0m\u001b[0mrow_sum\u001b[0m\u001b[0;34m]\u001b[0m \u001b[0;34m=\u001b[0m \u001b[0mdict_count\u001b[0m\u001b[0;34m[\u001b[0m\u001b[0mrow_sum\u001b[0m\u001b[0;34m]\u001b[0m \u001b[0;34m+\u001b[0m\u001b[0;36m1\u001b[0m\u001b[0;34m\u001b[0m\u001b[0;34m\u001b[0m\u001b[0m\n\u001b[0m",
      "\u001b[0;31mKeyError\u001b[0m: 0"
     ]
    }
   ],
   "source": [
    "space = np.matrix(spacewords)\n",
    "dict_count = dict()\n",
    "for row in space: \n",
    "    #print(\"Sum is: {}, and row is: {}\".format(np.sum(row), row))\n",
    "    row_sum = np.sum(row)\n",
    "    if row_sum not in dict_count.keys():\n",
    "        dict_count[row_sum] = 1\n",
    "    else:\n",
    "        dict_count[row_sum] = dict_count[row_sum] +1"
   ]
  },
  {
   "cell_type": "markdown",
   "metadata": {},
   "source": [
    "# Error detection"
   ]
  },
  {
   "cell_type": "code",
   "execution_count": 63,
   "metadata": {},
   "outputs": [
    {
     "output_type": "execute_result",
     "data": {
      "text/plain": "[0, 1, 0, 1, 0, 1, 0, 1]"
     },
     "metadata": {},
     "execution_count": 63
    }
   ],
   "source": [
    "codewords[4]"
   ]
  },
  {
   "cell_type": "code",
   "execution_count": 64,
   "metadata": {},
   "outputs": [],
   "source": [
    "error_code = codewords[4]\n"
   ]
  },
  {
   "cell_type": "code",
   "execution_count": 46,
   "metadata": {},
   "outputs": [
    {
     "output_type": "execute_result",
     "data": {
      "text/plain": "[0, 1, 1, 0, 0, 1, 1, 0]"
     },
     "metadata": {},
     "execution_count": 46
    }
   ],
   "source": [
    "error_code"
   ]
  },
  {
   "cell_type": "code",
   "execution_count": 65,
   "metadata": {},
   "outputs": [],
   "source": [
    "error_code[6] = 1"
   ]
  },
  {
   "cell_type": "code",
   "execution_count": 66,
   "metadata": {},
   "outputs": [
    {
     "output_type": "execute_result",
     "data": {
      "text/plain": "[0, 1, 0, 1, 0, 1, 1, 1]"
     },
     "metadata": {},
     "execution_count": 66
    }
   ],
   "source": [
    "error_code"
   ]
  },
  {
   "cell_type": "code",
   "execution_count": 67,
   "metadata": {},
   "outputs": [
    {
     "output_type": "execute_result",
     "data": {
      "text/plain": "matrix([[1, 0, 1, 1]])"
     },
     "metadata": {},
     "execution_count": 67
    }
   ],
   "source": [
    "error_code*H.T %2"
   ]
  },
  {
   "cell_type": "code",
   "execution_count": null,
   "metadata": {},
   "outputs": [],
   "source": []
  }
 ],
 "metadata": {
  "language_info": {
   "codemirror_mode": {
    "name": "ipython",
    "version": 3
   },
   "file_extension": ".py",
   "mimetype": "text/x-python",
   "name": "python",
   "nbconvert_exporter": "python",
   "pygments_lexer": "ipython3",
   "version": "3.7.4-final"
  },
  "orig_nbformat": 2,
  "kernelspec": {
   "name": "python37464bit24d5e01197ab4a289239a99fb434eff8",
   "display_name": "Python 3.7.4 64-bit"
  }
 },
 "nbformat": 4,
 "nbformat_minor": 2
}
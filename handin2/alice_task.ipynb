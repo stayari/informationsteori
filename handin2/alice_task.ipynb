{
 "cells": [
  {
   "cell_type": "code",
   "execution_count": 1,
   "metadata": {},
   "outputs": [],
   "source": [
    "import regex\n",
    "import re\n",
    "from collections import Counter\n",
    "import string\n",
    "import numpy as np\n"
   ]
  },
  {
   "cell_type": "code",
   "execution_count": 2,
   "metadata": {},
   "outputs": [],
   "source": [
    "text = open('Alice29.txt', 'r').read()\n",
    "TEXT_LENGTH = len(text)\n",
    "words = re.findall(r'\\w+', text.lower())\n",
    "char_counter = Counter(text)\n",
    "word_count = Counter(words)\n",
    "# Construct dictiorary with all letters\n",
    "char_dict = dict.fromkeys(char_counter, 0)\n",
    "alphabet_dict = dict.fromkeys(string.ascii_lowercase, 0)\n"
   ]
  },
  {
   "cell_type": "code",
   "execution_count": 3,
   "metadata": {},
   "outputs": [],
   "source": [
    "#print(char_dict)\n",
    "#print(alphabet_dict)"
   ]
  },
  {
   "cell_type": "markdown",
   "metadata": {},
   "source": [
    "How many 'e' occurs"
   ]
  },
  {
   "cell_type": "code",
   "execution_count": 4,
   "metadata": {},
   "outputs": [
    {
     "output_type": "stream",
     "name": "stdout",
     "text": "13381\n"
    }
   ],
   "source": [
    "print(char_counter['e'])"
   ]
  },
  {
   "cell_type": "code",
   "execution_count": 5,
   "metadata": {},
   "outputs": [],
   "source": [
    "def letter_prob(letter): \n",
    "    return char_counter[letter]/TEXT_LENGTH\n",
    "    "
   ]
  },
  {
   "cell_type": "code",
   "execution_count": 6,
   "metadata": {},
   "outputs": [
    {
     "output_type": "stream",
     "name": "stdout",
     "text": "0.09011927451997226\n"
    }
   ],
   "source": [
    "print(letter_prob('e'))"
   ]
  },
  {
   "cell_type": "code",
   "execution_count": 7,
   "metadata": {},
   "outputs": [],
   "source": [
    "for letter in alphabet_dict:\n",
    "    alphabet_dict[letter] = letter_prob(letter)"
   ]
  },
  {
   "cell_type": "code",
   "execution_count": 8,
   "metadata": {},
   "outputs": [],
   "source": [
    "for char in char_counter:\n",
    "    char_dict[char] = letter_prob(char)"
   ]
  },
  {
   "cell_type": "code",
   "execution_count": 9,
   "metadata": {},
   "outputs": [],
   "source": [
    "#print(alphabet_dict)"
   ]
  },
  {
   "cell_type": "markdown",
   "metadata": {},
   "source": [
    "Making sure all character probabilities add up to 1\n"
   ]
  },
  {
   "cell_type": "code",
   "execution_count": 10,
   "metadata": {},
   "outputs": [
    {
     "output_type": "stream",
     "name": "stdout",
     "text": "1.0\n"
    }
   ],
   "source": [
    "total_prob = 0\n",
    "for char in char_dict: \n",
    "    total_prob += char_dict[char]\n",
    "print(total_prob)"
   ]
  },
  {
   "cell_type": "code",
   "execution_count": 11,
   "metadata": {},
   "outputs": [
    {
     "output_type": "stream",
     "name": "stdout",
     "text": "73\n"
    }
   ],
   "source": [
    "print(len(char_dict))"
   ]
  },
  {
   "cell_type": "code",
   "execution_count": 12,
   "metadata": {},
   "outputs": [],
   "source": [
    "def huffman_coding(probability_dict):\n",
    "    # Sort the symbols according to their probabilities, highest first\n",
    "    huffman_array = sorted(probability_dict, key=probability_dict.get, reverse=True)\n",
    "    new_col = np.zeros(len(huffman_array))\n",
    "    huffman_matrix = np.append([huffman_array], [new_col], axis = 0)\n",
    "    # Arranging matrix with [char, probability]\n",
    "    # char is already given from previous sorted() function. Occupy with probabilities:\n",
    "    for i in range(len(huffman_array)):\n",
    "        huffman_matrix[1][i] = float(probability_dict[huffman_matrix[0][i]])\n",
    "\n",
    "    return huffman_matrix\n",
    "\n"
   ]
  },
  {
   "cell_type": "code",
   "execution_count": 13,
   "metadata": {},
   "outputs": [],
   "source": [
    "prob_matrix =huffman_coding(char_dict).T"
   ]
  },
  {
   "cell_type": "code",
   "execution_count": 14,
   "metadata": {},
   "outputs": [
    {
     "output_type": "stream",
     "name": "stdout",
     "text": "[[' ' '0.1946376977525744']\n ['e' '0.09011927451997226']\n ['t' '0.06877647645153252']\n ['a' '0.054882442871478504']\n ['o' '0.053643227079559']\n ['h' '0.04773674746263832']\n ['n' '0.04642344811794102']\n ['i' '0.04564893824799133']\n ['s' '0.042274769162384415']\n ['r' '0.0356476586229888']\n ['d' '0.03191654151036159']\n ['l' '0.0310814178245028']\n ['\\n' '0.024299405311117246']\n ['u' '0.02291202241364215']\n ['g' '0.0164734881904082']\n ['w' '0.016412874374499096']\n [',' '0.016284911874246535']\n ['c' '0.01517365858257959']\n ['y' '0.01447996713384204']\n ['f' '0.01297135660454873']\n ['m' '0.012843394104296173']\n [\"'\" '0.011860103312881783']\n ['p' '0.009819438177275206']\n ['b' '0.009314323044699322']\n ['`' '0.00746223422525441']\n ['k' '0.0072467184353553656']\n ['.' '0.006579966460355197']\n ['v' '0.005408099352779143']\n ['I' '0.004936658562374984']\n ['-' '0.004505626982576895']\n ['A' '0.004296846061112196']\n ['T' '0.0031788579010109037']\n ['!' '0.0030239559270209657']\n ['H' '0.0019127026353540184']\n ['W' '0.001596163818939797']\n [':' '0.0015692243452024165']\n ['S' '0.0014682013186872395']\n ['?' '0.0013604434237377172']\n ['M' '0.001346973686869027']\n [';' '0.0013065644762629562']\n ['D' '0.001293094739394266']\n ['E' '0.0012661552656568853']\n ['O' '0.0011853368444447437']\n ['C' '0.0009698210545456995']\n ['x' '0.0009698210545456995']\n ['R' '0.0009428815808083189']\n ['j' '0.0009294118439396287']\n ['q' '0.0008418585542931419']\n ['N' '0.0008081842121214162']\n ['Y' '0.0007677750015153454']\n ['\"' '0.0007610401330810003']\n ['L' '0.0006600171065658233']\n ['B' '0.0006128730275254073']\n ['Q' '0.0005657289484849913']\n ['K' '0.0005522592116163011']\n ['G' '0.0005522592116163011']\n ['z' '0.0005185848694445754']\n ['F' '0.00049838026414154']\n ['U' '0.00044450131666677893']\n ['P' '0.0004310315797980886']\n ['*' '0.0004040921060607081']\n ['(' '0.00037715263232332755']\n [')' '0.00037041776388898245']\n ['V' '0.00028286447424249566']\n ['J' '5.387894747476108e-05']\n ['_' '2.693947373738054e-05']\n ['X' '2.693947373738054e-05']\n ['[' '1.346973686869027e-05']\n [']' '1.346973686869027e-05']\n ['2' '6.734868434345135e-06']\n ['9' '6.734868434345135e-06']\n ['Z' '6.734868434345135e-06']\n ['\\x1a' '6.734868434345135e-06']]\n"
    }
   ],
   "source": [
    "print(prob_matrix)"
   ]
  },
  {
   "cell_type": "code",
   "execution_count": 15,
   "metadata": {},
   "outputs": [],
   "source": [
    "import binary_tree as bt"
   ]
  },
  {
   "cell_type": "code",
   "execution_count": 24,
   "metadata": {},
   "outputs": [
    {
     "output_type": "stream",
     "name": "stdout",
     "text": "Value already in tree! C 0.0009698210545456995\nValue already in tree! K 0.0005522592116163011\nValue already in tree! _ 2.693947373738054e-05\nValue already in tree! [ 1.346973686869027e-05\nValue already in tree! 2 6.734868434345135e-06\nValue already in tree! 2 6.734868434345135e-06\nValue already in tree! 2 6.734868434345135e-06\n"
    }
   ],
   "source": [
    "tree = bt.binary_search_tree()\n",
    "tree.fill_tree(prob_matrix)\n"
   ]
  },
  {
   "cell_type": "code",
   "execution_count": 26,
   "metadata": {},
   "outputs": [
    {
     "output_type": "stream",
     "name": "stdout",
     "text": "V 0.00028286447424249566\n) 0.00037041776388898245\n( 0.00037715263232332755\n* 0.0004040921060607081\nP 0.0004310315797980886\nU 0.00044450131666677893\nF 0.00049838026414154\nz 0.0005185848694445754\nK 0.0005522592116163011\nQ 0.0005657289484849913\nB 0.0006128730275254073\nL 0.0006600171065658233\n\" 0.0007610401330810003\nY 0.0007677750015153454\nN 0.0008081842121214162\nq 0.0008418585542931419\nj 0.0009294118439396287\nR 0.0009428815808083189\nC 0.0009698210545456995\nO 0.0011853368444447437\nE 0.0012661552656568853\nD 0.001293094739394266\n; 0.0013065644762629562\nM 0.001346973686869027\n? 0.0013604434237377172\nS 0.0014682013186872395\n: 0.0015692243452024165\nW 0.001596163818939797\nH 0.0019127026353540184\n! 0.0030239559270209657\nT 0.0031788579010109037\nA 0.004296846061112196\n- 0.004505626982576895\nI 0.004936658562374984\nv 0.005408099352779143\n. 0.006579966460355197\nk 0.0072467184353553656\n` 0.00746223422525441\nb 0.009314323044699322\np 0.009819438177275206\n' 0.011860103312881783\nm 0.012843394104296173\nf 0.01297135660454873\ny 0.01447996713384204\nc 0.01517365858257959\n, 0.016284911874246535\nw 0.016412874374499096\ng 0.0164734881904082\nu 0.02291202241364215\n\n 0.024299405311117246\nl 0.0310814178245028\nd 0.03191654151036159\nr 0.0356476586229888\ns 0.042274769162384415\ni 0.04564893824799133\nn 0.04642344811794102\nh 0.04773674746263832\no 0.053643227079559\na 0.054882442871478504\nt 0.06877647645153252\ne 0.09011927451997226\n  0.1946376977525744\n[ 1.346973686869027e-05\n_ 2.693947373738054e-05\nJ 5.387894747476108e-05\n2 6.734868434345135e-06\n"
    },
    {
     "output_type": "execute_result",
     "data": {
      "text/plain": "NoneType"
     },
     "metadata": {},
     "execution_count": 26
    }
   ],
   "source": []
  },
  {
   "cell_type": "code",
   "execution_count": 23,
   "metadata": {},
   "outputs": [
    {
     "output_type": "stream",
     "name": "stdout",
     "text": "Value already in tree!   0.1946376977525744\nValue already in tree! e 0.09011927451997226\nValue already in tree! t 0.06877647645153252\nValue already in tree! a 0.054882442871478504\nValue already in tree! o 0.053643227079559\nValue already in tree! h 0.04773674746263832\nValue already in tree! n 0.04642344811794102\nValue already in tree! i 0.04564893824799133\nValue already in tree! s 0.042274769162384415\nValue already in tree! r 0.0356476586229888\nValue already in tree! d 0.03191654151036159\nValue already in tree! l 0.0310814178245028\nValue already in tree! \n 0.024299405311117246\nValue already in tree! u 0.02291202241364215\nValue already in tree! g 0.0164734881904082\nValue already in tree! w 0.016412874374499096\nValue already in tree! , 0.016284911874246535\nValue already in tree! c 0.01517365858257959\nValue already in tree! y 0.01447996713384204\nValue already in tree! f 0.01297135660454873\nValue already in tree! m 0.012843394104296173\nValue already in tree! ' 0.011860103312881783\nValue already in tree! p 0.009819438177275206\nValue already in tree! b 0.009314323044699322\nValue already in tree! ` 0.00746223422525441\nValue already in tree! k 0.0072467184353553656\nValue already in tree! . 0.006579966460355197\nValue already in tree! v 0.005408099352779143\nValue already in tree! I 0.004936658562374984\nValue already in tree! - 0.004505626982576895\nValue already in tree! A 0.004296846061112196\nValue already in tree! T 0.0031788579010109037\nValue already in tree! ! 0.0030239559270209657\nValue already in tree! H 0.0019127026353540184\nValue already in tree! W 0.001596163818939797\nValue already in tree! : 0.0015692243452024165\nValue already in tree! S 0.0014682013186872395\nValue already in tree! ? 0.0013604434237377172\nValue already in tree! M 0.001346973686869027\nValue already in tree! ; 0.0013065644762629562\nValue already in tree! D 0.001293094739394266\nValue already in tree! E 0.0012661552656568853\nValue already in tree! O 0.0011853368444447437\nValue already in tree! C 0.0009698210545456995\nValue already in tree! C 0.0009698210545456995\nValue already in tree! R 0.0009428815808083189\nValue already in tree! j 0.0009294118439396287\nValue already in tree! q 0.0008418585542931419\nValue already in tree! N 0.0008081842121214162\nValue already in tree! Y 0.0007677750015153454\nValue already in tree! \" 0.0007610401330810003\nValue already in tree! L 0.0006600171065658233\nValue already in tree! B 0.0006128730275254073\nValue already in tree! Q 0.0005657289484849913\nValue already in tree! K 0.0005522592116163011\nValue already in tree! K 0.0005522592116163011\nValue already in tree! z 0.0005185848694445754\nValue already in tree! F 0.00049838026414154\nValue already in tree! U 0.00044450131666677893\nValue already in tree! P 0.0004310315797980886\nValue already in tree! * 0.0004040921060607081\nValue already in tree! ( 0.00037715263232332755\nValue already in tree! ) 0.00037041776388898245\nValue already in tree! V 0.00028286447424249566\nValue already in tree! J 5.387894747476108e-05\nValue already in tree! _ 2.693947373738054e-05\nValue already in tree! _ 2.693947373738054e-05\nValue already in tree! [ 1.346973686869027e-05\nValue already in tree! [ 1.346973686869027e-05\nValue already in tree! 2 6.734868434345135e-06\nValue already in tree! 2 6.734868434345135e-06\nValue already in tree! 2 6.734868434345135e-06\nValue already in tree! 2 6.734868434345135e-06\nV 0.00028286447424249566\n) 0.00037041776388898245\n( 0.00037715263232332755\n* 0.0004040921060607081\nP 0.0004310315797980886\nU 0.00044450131666677893\nF 0.00049838026414154\nz 0.0005185848694445754\nK 0.0005522592116163011\nQ 0.0005657289484849913\nB 0.0006128730275254073\nL 0.0006600171065658233\n\" 0.0007610401330810003\nY 0.0007677750015153454\nN 0.0008081842121214162\nq 0.0008418585542931419\nj 0.0009294118439396287\nR 0.0009428815808083189\nC 0.0009698210545456995\nO 0.0011853368444447437\nE 0.0012661552656568853\nD 0.001293094739394266\n; 0.0013065644762629562\nM 0.001346973686869027\n? 0.0013604434237377172\nS 0.0014682013186872395\n: 0.0015692243452024165\nW 0.001596163818939797\nH 0.0019127026353540184\n! 0.0030239559270209657\nT 0.0031788579010109037\nA 0.004296846061112196\n- 0.004505626982576895\nI 0.004936658562374984\nv 0.005408099352779143\n. 0.006579966460355197\nk 0.0072467184353553656\n` 0.00746223422525441\nb 0.009314323044699322\np 0.009819438177275206\n' 0.011860103312881783\nm 0.012843394104296173\nf 0.01297135660454873\ny 0.01447996713384204\nc 0.01517365858257959\n, 0.016284911874246535\nw 0.016412874374499096\ng 0.0164734881904082\nu 0.02291202241364215\n\n 0.024299405311117246\nl 0.0310814178245028\nd 0.03191654151036159\nr 0.0356476586229888\ns 0.042274769162384415\ni 0.04564893824799133\nn 0.04642344811794102\nh 0.04773674746263832\no 0.053643227079559\na 0.054882442871478504\nt 0.06877647645153252\ne 0.09011927451997226\n  0.1946376977525744\n[ 1.346973686869027e-05\n_ 2.693947373738054e-05\nJ 5.387894747476108e-05\n2 6.734868434345135e-06\n"
    }
   ],
   "source": [
    "tree2 = bt.binary_search_tree()\n",
    "tree.fill_tree(prob_matrix)\n",
    "tree.print_tree()\n"
   ]
  },
  {
   "cell_type": "code",
   "execution_count": 19,
   "metadata": {},
   "outputs": [],
   "source": [
    "element_add = (prob_matrix[-1,0] +prob_matrix[-2,0], float(prob_matrix[-1,1]) +float(prob_matrix[-2,1]))"
   ]
  },
  {
   "cell_type": "code",
   "execution_count": 20,
   "metadata": {},
   "outputs": [
    {
     "output_type": "execute_result",
     "data": {
      "text/plain": "('\\x1aZ', 1.346973686869027e-05)"
     },
     "metadata": {},
     "execution_count": 20
    }
   ],
   "source": [
    "element_add"
   ]
  },
  {
   "cell_type": "code",
   "execution_count": 21,
   "metadata": {},
   "outputs": [
    {
     "output_type": "execute_result",
     "data": {
      "text/plain": "array([' ', 'e', 't', 'a', 'o', 'h', 'n', 'i', 's', 'r', 'd', 'l', '\\n',\n       'u', 'g', 'w', ',', 'c', 'y', 'f', 'm', \"'\", 'p', 'b', '`', 'k',\n       '.', 'v', 'I', '-', 'A', 'T', '!', 'H', 'W', ':', 'S', '?', 'M',\n       ';', 'D', 'E', 'O', 'C', 'x', 'R', 'j', 'q', 'N', 'Y', '\"', 'L',\n       'B', 'Q', 'K', 'G', 'z', 'F', 'U', 'P', '*', '(', ')', 'V', 'J',\n       '_', 'X', '[', ']', '2', '9', 'Z', '\\x1a'], dtype='<U32')"
     },
     "metadata": {},
     "execution_count": 21
    }
   ],
   "source": [
    "prob_matrix[:,0]"
   ]
  },
  {
   "cell_type": "code",
   "execution_count": null,
   "metadata": {},
   "outputs": [],
   "source": []
  }
 ],
 "metadata": {
  "kernelspec": {
   "display_name": "Python 3",
   "language": "python",
   "name": "python3"
  },
  "language_info": {
   "codemirror_mode": {
    "name": "ipython",
    "version": 3
   },
   "file_extension": ".py",
   "mimetype": "text/x-python",
   "name": "python",
   "nbconvert_exporter": "python",
   "pygments_lexer": "ipython3",
   "version": "3.7.4-final"
  }
 },
 "nbformat": 4,
 "nbformat_minor": 2
}
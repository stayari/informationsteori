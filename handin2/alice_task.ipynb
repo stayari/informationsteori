{
 "cells": [
  {
   "cell_type": "code",
   "execution_count": 3,
   "metadata": {},
   "outputs": [],
   "source": [
    "import regex\n",
    "import re\n",
    "from collections import Counter\n",
    "import string\n",
    "import numpy as np"
   ]
  },
  {
   "cell_type": "code",
   "execution_count": 4,
   "metadata": {},
   "outputs": [],
   "source": [
    "text = open('Alice29.txt', 'r').read()\n",
    "TEXT_LENGTH = len(text)\n",
    "words = re.findall(r'\\w+', text.lower())\n",
    "char_counter = Counter(text)\n",
    "word_count = Counter(words)\n",
    "# Construct dictiorary with all letters\n",
    "char_dict = dict.fromkeys(char_counter, 0)"
   ]
  },
  {
   "cell_type": "code",
   "execution_count": 5,
   "metadata": {},
   "outputs": [
    {
     "name": "stdout",
     "output_type": "stream",
     "text": [
      "{'\\n': 0, ' ': 0, 'A': 0, 'L': 0, 'I': 0, 'C': 0, 'E': 0, \"'\": 0, 'S': 0, 'D': 0, 'V': 0, 'N': 0, 'T': 0, 'U': 0, 'R': 0, 'W': 0, 'O': 0, 'e': 0, 'w': 0, 'i': 0, 's': 0, 'a': 0, 'r': 0, 'o': 0, 'l': 0, 'H': 0, 'M': 0, 'F': 0, '2': 0, '.': 0, '9': 0, 'P': 0, 'n': 0, 't': 0, 'h': 0, 'b': 0, '-': 0, 'c': 0, 'g': 0, 'v': 0, 'y': 0, 'd': 0, 'f': 0, 'k': 0, ',': 0, ':': 0, 'p': 0, 'u': 0, '`': 0, '?': 0, 'm': 0, '(': 0, ')': 0, 'Y': 0, ';': 0, '!': 0, 'q': 0, 'K': 0, 'j': 0, 'x': 0, 'G': 0, 'Z': 0, 'B': 0, 'z': 0, '\"': 0, '*': 0, '_': 0, 'Q': 0, 'J': 0, 'X': 0, '[': 0, ']': 0, '\\x1a': 0}\n"
     ]
    }
   ],
   "source": [
    "print(char_dict)"
   ]
  },
  {
   "cell_type": "code",
   "execution_count": 6,
   "metadata": {},
   "outputs": [],
   "source": [
    "def letter_prob(letter): \n",
    "    return char_counter[letter]/TEXT_LENGTH"
   ]
  },
  {
   "cell_type": "markdown",
   "metadata": {},
   "source": [
    "How many 'e' occurs"
   ]
  },
  {
   "cell_type": "code",
   "execution_count": 7,
   "metadata": {},
   "outputs": [
    {
     "data": {
      "text/plain": [
       "13381"
      ]
     },
     "execution_count": 7,
     "metadata": {},
     "output_type": "execute_result"
    }
   ],
   "source": [
    "char_counter['e']"
   ]
  },
  {
   "cell_type": "code",
   "execution_count": 8,
   "metadata": {},
   "outputs": [
    {
     "data": {
      "text/plain": [
       "0.09011927451997226"
      ]
     },
     "execution_count": 8,
     "metadata": {},
     "output_type": "execute_result"
    }
   ],
   "source": [
    "letter_prob('e')"
   ]
  },
  {
   "cell_type": "markdown",
   "metadata": {},
   "source": [
    "for letter in alphabet_dict:\n",
    "    alphabet_dict[letter] = letter_prob(letter)"
   ]
  },
  {
   "cell_type": "code",
   "execution_count": 9,
   "metadata": {},
   "outputs": [],
   "source": [
    "for char in char_counter:\n",
    "    char_dict[char] = letter_prob(char)"
   ]
  },
  {
   "cell_type": "markdown",
   "metadata": {},
   "source": [
    "Making sure all character probabilities add up to 1\n"
   ]
  },
  {
   "cell_type": "code",
   "execution_count": 10,
   "metadata": {},
   "outputs": [
    {
     "name": "stdout",
     "output_type": "stream",
     "text": [
      "1.0\n"
     ]
    }
   ],
   "source": [
    "total_prob = 0\n",
    "for char in char_dict: \n",
    "    total_prob += char_dict[char]\n",
    "print(total_prob)"
   ]
  },
  {
   "cell_type": "code",
   "execution_count": 11,
   "metadata": {},
   "outputs": [
    {
     "data": {
      "text/plain": [
       "73"
      ]
     },
     "execution_count": 11,
     "metadata": {},
     "output_type": "execute_result"
    }
   ],
   "source": [
    "len(char_dict)"
   ]
  },
  {
   "cell_type": "code",
   "execution_count": 12,
   "metadata": {},
   "outputs": [],
   "source": [
    "def huffman_coding(probability_dict):\n",
    "    # Sort the symbols according to their probabilities, lowest first\n",
    "    huffman_array = sorted(probability_dict, key=probability_dict.get, reverse=True)\n",
    "    new_col = np.zeros(len(huffman_array))\n",
    "    huffman_matrix = np.append([huffman_array], [new_col], axis = 0)\n",
    "    # Arranging matrix with [char, ]\n",
    "    for i in range(len(huffman_array)):\n",
    "        huffman_matrix[1][i] = probability_dict[huffman_matrix[0][i]]\n",
    "    #\n",
    "    huffman_matrix = huffman_matrix.T\n",
    "    #Build Hoff Tree\n",
    "    import hoffman_tree as ht\n",
    "    hoff = ht.hoffman_tree()\n",
    "    hoff.fill(huffman_matrix)\n",
    "    hoff_tree = hoff.get_hoffman_tree()\n",
    "    encoded_list = hoff.get_encoding_table(hoff_tree)\n",
    "\n",
    "    return huffman_matrix, encoded_list"
   ]
  },
  {
   "cell_type": "code",
   "execution_count": 13,
   "metadata": {},
   "outputs": [
    {
     "data": {
      "text/plain": [
       "array([[' ', '0.1946376977525744'],\n",
       "       ['e', '0.09011927451997226'],\n",
       "       ['t', '0.06877647645153252'],\n",
       "       ['a', '0.054882442871478504'],\n",
       "       ['o', '0.053643227079559'],\n",
       "       ['h', '0.04773674746263832'],\n",
       "       ['n', '0.04642344811794102'],\n",
       "       ['i', '0.04564893824799133'],\n",
       "       ['s', '0.042274769162384415'],\n",
       "       ['r', '0.0356476586229888'],\n",
       "       ['d', '0.03191654151036159'],\n",
       "       ['l', '0.0310814178245028'],\n",
       "       ['\\n', '0.024299405311117246'],\n",
       "       ['u', '0.02291202241364215'],\n",
       "       ['g', '0.0164734881904082'],\n",
       "       ['w', '0.016412874374499096'],\n",
       "       [',', '0.016284911874246535'],\n",
       "       ['c', '0.01517365858257959'],\n",
       "       ['y', '0.01447996713384204'],\n",
       "       ['f', '0.01297135660454873'],\n",
       "       ['m', '0.012843394104296173'],\n",
       "       [\"'\", '0.011860103312881783'],\n",
       "       ['p', '0.009819438177275206'],\n",
       "       ['b', '0.009314323044699322'],\n",
       "       ['`', '0.00746223422525441'],\n",
       "       ['k', '0.0072467184353553656'],\n",
       "       ['.', '0.006579966460355197'],\n",
       "       ['v', '0.005408099352779143'],\n",
       "       ['I', '0.004936658562374984'],\n",
       "       ['-', '0.004505626982576895'],\n",
       "       ['A', '0.004296846061112196'],\n",
       "       ['T', '0.0031788579010109037'],\n",
       "       ['!', '0.0030239559270209657'],\n",
       "       ['H', '0.0019127026353540184'],\n",
       "       ['W', '0.001596163818939797'],\n",
       "       [':', '0.0015692243452024165'],\n",
       "       ['S', '0.0014682013186872395'],\n",
       "       ['?', '0.0013604434237377172'],\n",
       "       ['M', '0.001346973686869027'],\n",
       "       [';', '0.0013065644762629562'],\n",
       "       ['D', '0.001293094739394266'],\n",
       "       ['E', '0.0012661552656568853'],\n",
       "       ['O', '0.0011853368444447437'],\n",
       "       ['C', '0.0009698210545456995'],\n",
       "       ['x', '0.0009698210545456995'],\n",
       "       ['R', '0.0009428815808083189'],\n",
       "       ['j', '0.0009294118439396287'],\n",
       "       ['q', '0.0008418585542931419'],\n",
       "       ['N', '0.0008081842121214162'],\n",
       "       ['Y', '0.0007677750015153454'],\n",
       "       ['\"', '0.0007610401330810003'],\n",
       "       ['L', '0.0006600171065658233'],\n",
       "       ['B', '0.0006128730275254073'],\n",
       "       ['Q', '0.0005657289484849913'],\n",
       "       ['K', '0.0005522592116163011'],\n",
       "       ['G', '0.0005522592116163011'],\n",
       "       ['z', '0.0005185848694445754'],\n",
       "       ['F', '0.00049838026414154'],\n",
       "       ['U', '0.00044450131666677893'],\n",
       "       ['P', '0.0004310315797980886'],\n",
       "       ['*', '0.0004040921060607081'],\n",
       "       ['(', '0.00037715263232332755'],\n",
       "       [')', '0.00037041776388898245'],\n",
       "       ['V', '0.00028286447424249566'],\n",
       "       ['J', '5.387894747476108e-05'],\n",
       "       ['_', '2.693947373738054e-05'],\n",
       "       ['X', '2.693947373738054e-05'],\n",
       "       ['[', '1.346973686869027e-05'],\n",
       "       [']', '1.346973686869027e-05'],\n",
       "       ['2', '6.734868434345135e-06'],\n",
       "       ['9', '6.734868434345135e-06'],\n",
       "       ['Z', '6.734868434345135e-06'],\n",
       "       ['\\x1a', '6.734868434345135e-06']], dtype='<U32')"
      ]
     },
     "execution_count": 13,
     "metadata": {},
     "output_type": "execute_result"
    }
   ],
   "source": [
    "[prob_dict_list, encoded_list] = huffman_coding(char_dict)\n",
    "prob_dict_list"
   ]
  },
  {
   "cell_type": "code",
   "execution_count": 14,
   "metadata": {},
   "outputs": [
    {
     "data": {
      "text/plain": [
       "[[' ', '11'],\n",
       " ['h', '1011'],\n",
       " ['\\n', '10101'],\n",
       " ['m', '101001'],\n",
       " [':', '101000111'],\n",
       " ['W', '101000110'],\n",
       " ['T', '10100010'],\n",
       " ['.', '1010000'],\n",
       " ['o', '1001'],\n",
       " ['a', '1000'],\n",
       " ['f', '011111'],\n",
       " ['N', '0111101111'],\n",
       " ['*', '01111011101'],\n",
       " ['P', '01111011100'],\n",
       " ['q', '0111101101'],\n",
       " ['J', '0111101100111'],\n",
       " ['Z', '01111011001101111'],\n",
       " ['\\x1a', '01111011001101110'],\n",
       " ['2', '01111011001101101'],\n",
       " ['9', '01111011001101100'],\n",
       " ['[', '0111101100110101'],\n",
       " [']', '0111101100110100'],\n",
       " ['_', '011110110011001'],\n",
       " ['X', '011110110011000'],\n",
       " ['V', '011110110010'],\n",
       " ['U', '01111011000'],\n",
       " ['j', '0111101011'],\n",
       " ['R', '0111101010'],\n",
       " ['H', '011110100'],\n",
       " ['k', '0111100'],\n",
       " ['y', '011101'],\n",
       " ['c', '011100'],\n",
       " ['l', '01101'],\n",
       " ['d', '01100'],\n",
       " ['`', '0101111'],\n",
       " ['C', '0101110111'],\n",
       " ['x', '0101110110'],\n",
       " ['F', '01011101011'],\n",
       " ['z', '01011101010'],\n",
       " ['K', '01011101001'],\n",
       " ['G', '01011101000'],\n",
       " ['A', '01011100'],\n",
       " [',', '010110'],\n",
       " ['w', '010101'],\n",
       " ['g', '010100'],\n",
       " ['t', '0100'],\n",
       " ['r', '00111'],\n",
       " ['b', '0011011'],\n",
       " ['-', '00110101'],\n",
       " ['Q', '00110100111'],\n",
       " ['B', '00110100110'],\n",
       " ['O', '0011010010'],\n",
       " ['E', '0011010001'],\n",
       " ['D', '0011010000'],\n",
       " ['p', '0011001'],\n",
       " ['I', '00110001'],\n",
       " ['v', '00110000'],\n",
       " ['s', '00101'],\n",
       " ['i', '00100'],\n",
       " ['e', '0001'],\n",
       " ['u', '000011'],\n",
       " [';', '0000101111'],\n",
       " ['M', '0000101110'],\n",
       " ['?', '0000101101'],\n",
       " ['L', '00001011001'],\n",
       " [')', '000010110001'],\n",
       " ['(', '000010110000'],\n",
       " ['S', '0000101011'],\n",
       " ['\"', '00001010101'],\n",
       " ['Y', '00001010100'],\n",
       " ['!', '000010100'],\n",
       " [\"'\", '0000100'],\n",
       " ['n', '00000']]"
      ]
     },
     "execution_count": 14,
     "metadata": {},
     "output_type": "execute_result"
    }
   ],
   "source": [
    "encoded_list"
   ]
  },
  {
   "cell_type": "code",
   "execution_count": 15,
   "metadata": {
    "tags": [
     "outputPrepend"
    ]
   },
   "outputs": [
    {
     "name": "stdout",
     "output_type": "stream",
     "text": [
      "676374\n"
     ]
    }
   ],
   "source": [
    "# Construct Optimal Source Code\n",
    "coded_text = ''\n",
    "for char in text:\n",
    "    for e in encoded_list:\n",
    "        if e[0] == char:\n",
    "            coded_text = coded_text + e[1]\n",
    "CODED_LENGTH_IN_BITS = len(coded_text)\n",
    "print(CODED_LENGTH_IN_BITS)"
   ]
  },
  {
   "cell_type": "code",
   "execution_count": 16,
   "metadata": {},
   "outputs": [
    {
     "name": "stdout",
     "output_type": "stream",
     "text": [
      "This is the length of the encoded text in Bits 676374\n",
      "This is the text length in Bits 1039367\n",
      "The huffman code reduced the size of the original text by 0.34924429965546333 %\n"
     ]
    }
   ],
   "source": [
    "print('This is the length of the encoded text in Bits', CODED_LENGTH_IN_BITS)\n",
    "print('This is the text length in Bits', TEXT_LENGTH*7)\n",
    "print('The huffman code reduced the size of the original text by',1 - CODED_LENGTH_IN_BITS/(TEXT_LENGTH*7), '%')\n"
   ]
  },
  {
   "cell_type": "code",
   "execution_count": 17,
   "metadata": {},
   "outputs": [
    {
     "name": "stdout",
     "output_type": "stream",
     "text": [
      "Entropy is 4.512876838738919\n",
      "bits per symbol is 4.555289902411756\n"
     ]
    }
   ],
   "source": [
    "#Entropy of the distrubution\n",
    "E = 0\n",
    "for e in prob_dict_list:\n",
    "    E = E - float(e[1])*np.log2(float(e[1]))\n",
    "\n",
    "print('Entropy is', E)\n",
    "print('bits per symbol is', CODED_LENGTH_IN_BITS/TEXT_LENGTH)\n"
   ]
  }
 ],
 "metadata": {
  "kernelspec": {
   "display_name": "Python 3.7.4 64-bit",
   "language": "python",
   "name": "python37464bit24d5e01197ab4a289239a99fb434eff8"
  },
  "language_info": {
   "codemirror_mode": {
    "name": "ipython",
    "version": 3
   },
   "file_extension": ".py",
   "mimetype": "text/x-python",
   "name": "python",
   "nbconvert_exporter": "python",
   "pygments_lexer": "ipython3",
   "version": "3.7.4"
  }
 },
 "nbformat": 4,
 "nbformat_minor": 2
}

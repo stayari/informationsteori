{
 "cells": [
  {
   "cell_type": "code",
   "execution_count": 251,
   "metadata": {},
   "outputs": [
    {
     "output_type": "error",
     "ename": "ModuleNotFoundError",
     "evalue": "No module named 'binarytree'",
     "traceback": [
      "\u001b[0;31m---------------------------------------------------------------------------\u001b[0m",
      "\u001b[0;31mModuleNotFoundError\u001b[0m                       Traceback (most recent call last)",
      "\u001b[0;32m<ipython-input-251-0e63779f5b54>\u001b[0m in \u001b[0;36m<module>\u001b[0;34m\u001b[0m\n\u001b[1;32m      4\u001b[0m \u001b[0;32mimport\u001b[0m \u001b[0mstring\u001b[0m\u001b[0;34m\u001b[0m\u001b[0;34m\u001b[0m\u001b[0m\n\u001b[1;32m      5\u001b[0m \u001b[0;32mimport\u001b[0m \u001b[0mnumpy\u001b[0m \u001b[0;32mas\u001b[0m \u001b[0mnp\u001b[0m\u001b[0;34m\u001b[0m\u001b[0;34m\u001b[0m\u001b[0m\n\u001b[0;32m----> 6\u001b[0;31m \u001b[0;32mfrom\u001b[0m \u001b[0mbinarytree\u001b[0m \u001b[0;32mimport\u001b[0m \u001b[0mtree\u001b[0m\u001b[0;34m\u001b[0m\u001b[0;34m\u001b[0m\u001b[0m\n\u001b[0m",
      "\u001b[0;31mModuleNotFoundError\u001b[0m: No module named 'binarytree'"
     ]
    }
   ],
   "source": [
    "import regex\n",
    "import re\n",
    "from collections import Counter\n",
    "import string\n",
    "import numpy as np\n",
    "from binarytree import tree"
   ]
  },
  {
   "cell_type": "code",
   "execution_count": 36,
   "metadata": {},
   "outputs": [],
   "source": [
    "text = open('Alice29.txt', 'r').read()\n",
    "TEXT_LENGTH = len(text)\n",
    "words = re.findall(r'\\w+', text.lower())\n",
    "char_counter = Counter(text)\n",
    "word_count = Counter(words)\n",
    "# Construct dictiorary with all letters\n",
    "char_dict = dict.fromkeys(char_counter, 0)\n",
    "alphabet_dict = dict.fromkeys(string.ascii_lowercase, 0)\n"
   ]
  },
  {
   "cell_type": "code",
   "execution_count": 46,
   "metadata": {},
   "outputs": [],
   "source": [
    "#print(char_dict)\n",
    "#print(alphabet_dict)"
   ]
  },
  {
   "cell_type": "markdown",
   "metadata": {},
   "source": [
    "How many 'e' occurs"
   ]
  },
  {
   "cell_type": "code",
   "execution_count": 47,
   "metadata": {},
   "outputs": [
    {
     "output_type": "stream",
     "name": "stdout",
     "text": "13381\n"
    }
   ],
   "source": [
    "print(char_counter['e'])"
   ]
  },
  {
   "cell_type": "code",
   "execution_count": 48,
   "metadata": {},
   "outputs": [],
   "source": [
    "def letter_prob(letter): \n",
    "    return char_counter[letter]/TEXT_LENGTH\n",
    "    "
   ]
  },
  {
   "cell_type": "code",
   "execution_count": 49,
   "metadata": {},
   "outputs": [
    {
     "output_type": "stream",
     "name": "stdout",
     "text": "0.09011927451997226\n"
    }
   ],
   "source": [
    "print(letter_prob('e'))"
   ]
  },
  {
   "cell_type": "code",
   "execution_count": 50,
   "metadata": {},
   "outputs": [],
   "source": [
    "for letter in alphabet_dict:\n",
    "    alphabet_dict[letter] = letter_prob(letter)"
   ]
  },
  {
   "cell_type": "code",
   "execution_count": 51,
   "metadata": {},
   "outputs": [],
   "source": [
    "for char in char_counter:\n",
    "    char_dict[char] = letter_prob(char)"
   ]
  },
  {
   "cell_type": "code",
   "execution_count": 52,
   "metadata": {},
   "outputs": [],
   "source": [
    "#print(alphabet_dict)"
   ]
  },
  {
   "cell_type": "markdown",
   "metadata": {},
   "source": [
    "Making sure all character probabilities add up to 1\n"
   ]
  },
  {
   "cell_type": "code",
   "execution_count": 53,
   "metadata": {},
   "outputs": [
    {
     "output_type": "stream",
     "name": "stdout",
     "text": "1.0\n"
    }
   ],
   "source": [
    "total_prob = 0\n",
    "for char in char_dict: \n",
    "    total_prob += char_dict[char]\n",
    "print(total_prob)"
   ]
  },
  {
   "cell_type": "code",
   "execution_count": 45,
   "metadata": {},
   "outputs": [
    {
     "output_type": "stream",
     "name": "stdout",
     "text": "73\n"
    }
   ],
   "source": [
    "print(len(char_dict))"
   ]
  },
  {
   "cell_type": "code",
   "execution_count": 248,
   "metadata": {},
   "outputs": [],
   "source": [
    "def huffman_coding(probability_dict):\n",
    "    # Sort the symbols according to their probabilities, lowest first\n",
    "    huffman_array = sorted(probability_dict, key=probability_dict.get, reverse=True)\n",
    "    new_col = np.zeros(len(huffman_array))\n",
    "    huffman_matrix = np.append([huffman_array], [new_col], axis = 0)\n",
    "    # Arranging matrix with [char, ]\n",
    "    for i in range(len(huffman_array)):\n",
    "        huffman_matrix[1][i] = probability_dict[huffman_matrix[0][i]]\n",
    "\n",
    "    return huffman_matrix\n",
    "\n"
   ]
  },
  {
   "cell_type": "code",
   "execution_count": 249,
   "metadata": {},
   "outputs": [
    {
     "output_type": "execute_result",
     "data": {
      "text/plain": "array([[' ', 'e', 't', 'a', 'o', 'h', 'n', 'i', 's', 'r', 'd', 'l', '\\n',\n        'u', 'g', 'w', ',', 'c', 'y', 'f', 'm', \"'\", 'p', 'b', '`', 'k',\n        '.', 'v', 'I', '-', 'A', 'T', '!', 'H', 'W', ':', 'S', '?', 'M',\n        ';', 'D', 'E', 'O', 'C', 'x', 'R', 'j', 'q', 'N', 'Y', '\"', 'L',\n        'B', 'Q', 'K', 'G', 'z', 'F', 'U', 'P', '*', '(', ')', 'V', 'J',\n        '_', 'X', '[', ']', '2', '9', 'Z', '\\x1a'],\n       ['0.1946376977525744', '0.09011927451997226',\n        '0.06877647645153252', '0.054882442871478504',\n        '0.053643227079559', '0.04773674746263832',\n        '0.04642344811794102', '0.04564893824799133',\n        '0.042274769162384415', '0.0356476586229888',\n        '0.03191654151036159', '0.0310814178245028',\n        '0.024299405311117246', '0.02291202241364215',\n        '0.0164734881904082', '0.016412874374499096',\n        '0.016284911874246535', '0.01517365858257959',\n        '0.01447996713384204', '0.01297135660454873',\n        '0.012843394104296173', '0.011860103312881783',\n        '0.009819438177275206', '0.009314323044699322',\n        '0.00746223422525441', '0.0072467184353553656',\n        '0.006579966460355197', '0.005408099352779143',\n        '0.004936658562374984', '0.004505626982576895',\n        '0.004296846061112196', '0.0031788579010109037',\n        '0.0030239559270209657', '0.0019127026353540184',\n        '0.001596163818939797', '0.0015692243452024165',\n        '0.0014682013186872395', '0.0013604434237377172',\n        '0.001346973686869027', '0.0013065644762629562',\n        '0.001293094739394266', '0.0012661552656568853',\n        '0.0011853368444447437', '0.0009698210545456995',\n        '0.0009698210545456995', '0.0009428815808083189',\n        '0.0009294118439396287', '0.0008418585542931419',\n        '0.0008081842121214162', '0.0007677750015153454',\n        '0.0007610401330810003', '0.0006600171065658233',\n        '0.0006128730275254073', '0.0005657289484849913',\n        '0.0005522592116163011', '0.0005522592116163011',\n        '0.0005185848694445754', '0.00049838026414154',\n        '0.00044450131666677893', '0.0004310315797980886',\n        '0.0004040921060607081', '0.00037715263232332755',\n        '0.00037041776388898245', '0.00028286447424249566',\n        '5.387894747476108e-05', '2.693947373738054e-05',\n        '2.693947373738054e-05', '1.346973686869027e-05',\n        '1.346973686869027e-05', '6.734868434345135e-06',\n        '6.734868434345135e-06', '6.734868434345135e-06',\n        '6.734868434345135e-06']], dtype='<U32')"
     },
     "metadata": {},
     "execution_count": 249
    }
   ],
   "source": [
    "huffman_coding(char_dict)"
   ]
  },
  {
   "cell_type": "code",
   "execution_count": 154,
   "metadata": {},
   "outputs": [
    {
     "output_type": "stream",
     "name": "stdout",
     "text": "[[1 2]\n [3 4]]\n"
    }
   ],
   "source": [
    "def binary_tree():\n",
    "    "
   ]
  },
  {
   "cell_type": "code",
   "execution_count": null,
   "metadata": {},
   "outputs": [],
   "source": []
  }
 ],
 "metadata": {
  "kernelspec": {
   "display_name": "Python 3",
   "language": "python",
   "name": "python3"
  },
  "language_info": {
   "codemirror_mode": {
    "name": "ipython",
    "version": 3
   },
   "file_extension": ".py",
   "mimetype": "text/x-python",
   "name": "python",
   "nbconvert_exporter": "python",
   "pygments_lexer": "ipython3",
   "version": "3.7.4-final"
  }
 },
 "nbformat": 4,
 "nbformat_minor": 2
}